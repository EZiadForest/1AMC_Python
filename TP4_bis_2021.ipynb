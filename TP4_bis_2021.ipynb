{
 "cells": [
  {
   "cell_type": "markdown",
   "metadata": {},
   "source": [
    "![](fig/logoENSI.png)\n",
    " ![](fig/logoPython.png)\n",
    "***\n",
    "# TP4 (suite)\n",
    "# Listes, fonctions, dictionnaires\n",
    "***\n",
    "**ENSICAEN  1A MC** \n",
    " 2019-2020\n",
    "\n",
    "## Eric Ziad-Forest\n",
    "***\n",
    "\n",
    "**Auteur :**\n",
    "\n",
    "- Eric Ziad-Forest [ziad@ensicaen.fr]\n",
    "***\n",
    "*Contenu sous licence [CC BY-SA 4.0](https://creativecommons.org/licenses/by-sa/4.0)*"
   ]
  },
  {
   "cell_type": "markdown",
   "metadata": {},
   "source": [
    "### Enseignants des groupes de TD/TP\n",
    "- Groupe 1: Philippe Lefebvre [lefebvre@ensicaen.fr]\n",
    "- Groupe 2: Eric Ziad-Forest [ziad@ensicaen.fr]\n",
    "- Groupe 3: Christine Porquet [chris@ensicaen.fr]\n",
    "- Groupe 4: Thibault Durand [tdurand@ensicaen.fr]\n",
    "***"
   ]
  },
  {
   "cell_type": "markdown",
   "metadata": {},
   "source": [
    "PARTIE III\n",
    "========"
   ]
  },
  {
   "cell_type": "markdown",
   "metadata": {},
   "source": [
    "## Cryptographie\n",
    "L’objectif de cette partie est de faire un petit peu de cryptographie.  \n",
    "Transmettre des messages secrets dans l’antiquité, consistait essentiellement\n",
    "en un décalage d’un certain nombre de lettres dans l’alphabet latin.  \n",
    "Le z a comme successeur le a de sorte à rendre l’alphabet circulaire.   \n",
    "Par exemple si x vaut 4 : a devient e, b devient f, et z devient d.  \n",
    "Les deux lignes suivantes montrent la correspondance entre les lettres :  \n",
    "-    abcdefghijklmnopqrstuvwxyz (lettres originales)  \n",
    "-    efghijklmnopqrstuvwxyzabcd (lettres chiffrées avec un décalage x = 4)\n",
    "    \n",
    "Par exemple, avec ce chiffre, le mot ’bonjour ’ devient ’fsrnsyv ’. \n",
    "    \n",
    "Le but de cet exercice est d’écrire un programme qui permet de chiffrer ou déchiffrer un texte avec ce procédé."
   ]
  },
  {
   "cell_type": "markdown",
   "metadata": {},
   "source": [
    "> **Exercice 6**   \n",
    "Définir une variable globale minuscule qui contient l’ensemble des lettres de a à z."
   ]
  },
  {
   "cell_type": "code",
   "execution_count": null,
   "metadata": {},
   "outputs": [],
   "source": [
    "minuscules="
   ]
  },
  {
   "cell_type": "markdown",
   "metadata": {},
   "source": [
    "> **Exercice 7**   \n",
    "Écrire  la  fonction **rotation(chaine, x)** qui  retourne  la  chaîne\n",
    "après  une  rotation  de  x  lettres  vers  la gauche. \n",
    "On suppose que x est positif et inférieur à la longueur de la chaîne.   \n",
    "Par exemple :  \n",
    "```code\n",
    "rotation(minuscules, 3)  \n",
    "'defghijklmnopqrstuvwxyzabc'\n",
    "```"
   ]
  },
  {
   "cell_type": "markdown",
   "metadata": {},
   "source": [
    "> **Exercice 8** \n",
    "Écrire la fonction **index(c, chaine)** qui retourne l’index de c dans la chaîne ou -1 \n",
    "si c est absent :  \n",
    "```code\n",
    "index('x','erxe') \n",
    "2\n",
    "index('y','erxe')\n",
    "-1\n",
    "```"
   ]
  },
  {
   "cell_type": "markdown",
   "metadata": {},
   "source": [
    "> **Exercice 9**   \n",
    "Écrire la fonction **chiffre_ minuscules(chaine, x)** qui retourne la phrase chaîne \n",
    "chiffrée avec un décalage de x lettres (on pourra utiliser les fonctions définies \n",
    "dans les questions précédentes).   \n",
    "On supposera ici que s ne comporte que des caractères minuscules.   \n",
    "Par exemple :\n",
    "```code\n",
    "chiffre_minuscules('bonjour', 3)\n",
    "'erqmrxu'\n",
    "```"
   ]
  },
  {
   "cell_type": "markdown",
   "metadata": {},
   "source": [
    "> **Exercice 10**  \n",
    "Écrire la fonction **chiffre(chaine, x)** pour qu’elle traite le cas des phrases qui comportent\n",
    "des minuscules, des majuscules, des espaces ou ponctuations. \n",
    "Pour simplifier, on suppose qu’on ne chiffre pas les lettres accentuées.   \n",
    "*Indication : vous pouvez utiliser les variables majuscule et ponctuation comme ci-dessous :*\n",
    "```code\n",
    "majuscules='ABCDEFGHIJKLMNOPQRSTUVWXYZ'  \n",
    "ponctuation=',?;.:\\'/\"_(-)'  \n",
    "chiffre('Bonjour les amis!', 3)  \n",
    "'Erqmrxu ohv dplv!'\n",
    "```"
   ]
  },
  {
   "cell_type": "markdown",
   "metadata": {},
   "source": [
    "> **Exercice 11**  \n",
    "Eudyr, yrxv dyhc ilql fhw hahuflfh !  \n",
    "La phrase précédente est chiffrée avec x = 3.   \n",
    "Déchiffrez-la.  \n",
    "*Notez qu’il n’est pas nécessaire de réécrire une fonction pour déchiffrer.*"
   ]
  },
  {
   "cell_type": "markdown",
   "metadata": {},
   "source": [
    "> **Exercice 12**   \n",
    "On peut déchiffrer de la même façon qu’on chiffre. Comment ?"
   ]
  },
  {
   "cell_type": "markdown",
   "metadata": {},
   "source": [
    "PARTIE IV\n",
    "========"
   ]
  },
  {
   "cell_type": "markdown",
   "metadata": {},
   "source": [
    "## Lecture/écriture et traitement dans un fichier\n",
    "### Préambule   fichier fable.txt\n",
    "Placer le fichier **fable.txt**, qui se trouve dans votre dossier TP4.\n",
    "\n",
    "### Manipulation de texte\n",
    "Apprenez en recopiant, ce que font les commandes suivantes : (pensez à commenter!)"
   ]
  },
  {
   "cell_type": "code",
   "execution_count": null,
   "metadata": {},
   "outputs": [],
   "source": [
    "k=\"animal bijoux coucou\""
   ]
  },
  {
   "cell_type": "code",
   "execution_count": null,
   "metadata": {},
   "outputs": [],
   "source": [
    "h=k.split()\n",
    "h"
   ]
  },
  {
   "cell_type": "code",
   "execution_count": null,
   "metadata": {},
   "outputs": [],
   "source": [
    "for el in range(len(h)):\n",
    "    h[el]=h[el]+''\n",
    "h"
   ]
  },
  {
   "cell_type": "code",
   "execution_count": null,
   "metadata": {},
   "outputs": [],
   "source": [
    "len(h[0])"
   ]
  },
  {
   "cell_type": "code",
   "execution_count": null,
   "metadata": {},
   "outputs": [],
   "source": [
    "s=\"\".join(h)\n",
    "s"
   ]
  },
  {
   "cell_type": "markdown",
   "metadata": {},
   "source": [
    "> **Exercice 13**   \n",
    "Après avoir ouvert dans un traitement de texte le fichier **fable.txt** copier-le et coller-le dans une variable **fab** de type **str** entre des guillemets doubles.  \n",
    "*Remarque: on ne tiendra pas compte de la ponctuation dans toutes les questions suivantes  (**sauf pour les plus avancés**)*."
   ]
  },
  {
   "cell_type": "code",
   "execution_count": null,
   "metadata": {
    "deletable": false,
    "dicho": {
     "celltype": "normal",
     "readonly": false
    }
   },
   "outputs": [],
   "source": [
    "fab=\"   ici le texte à coller   \""
   ]
  },
  {
   "cell_type": "markdown",
   "metadata": {},
   "source": [
    "> **Exercice 14**   \n",
    "Vous pouvez désormais répondre aux questions suivantes :\n",
    "1. En utilisant la méthode **count()** du type **str** ,compter le nombre de **a** minuscules.\n",
    "2. Donner le nombre de lettres de ce texte.\n",
    "3. Donner le nombre de mots.\n",
    "4. Ordonnée dans l’ordre lexicographique les mots du texte.\n",
    "5. Quelle critique pouvez-vous faire?\n",
    "6. Que représente le max dans cette liste de mots? (Pourquoi?)"
   ]
  },
  {
   "cell_type": "markdown",
   "metadata": {},
   "source": [
    "### Traitement dans un fichier "
   ]
  },
  {
   "cell_type": "markdown",
   "metadata": {},
   "source": [
    "> **Exercice 15**   \n",
    "1. Que fait cette fonction?"
   ]
  },
  {
   "cell_type": "code",
   "execution_count": null,
   "metadata": {},
   "outputs": [],
   "source": [
    "def statistiques(phrase):\n",
    "    liste_stat = [0 for x in range(26)]\n",
    "    for lettre in phrase:\n",
    "        i = ord(lettre)-97\n",
    "        if 0 <= i < 26:\n",
    "            liste_stat[i] = liste_stat[i] + 1\n",
    "    return(liste_stat)"
   ]
  },
  {
   "cell_type": "markdown",
   "metadata": {},
   "source": [
    ">2. Donner lenombre d’apparitions de chaque lettre minuscule dans cette fable de La Fontaine.\n",
    "3. Après avoir transformé, tout ce texte en lettre capitale (voir les méthodes ou attribut du type **str**), comptez la fréquence de chaque lettre.  \n",
    "*(Attention vous devrez changer la fonction statistique pour qu’elle prenne en compte les lettres majuscules et non les minuscules...)*\n",
    "4. Quel(s) est(sont)  le(s) mot(s) le(s) plus long(s)?\n",
    "5. Modifier dans cette fable tous les a en A (en faite ce qui se trouve dans la variable **fab**."
   ]
  },
  {
   "cell_type": "markdown",
   "metadata": {},
   "source": [
    "### Ecriture dans un fichier"
   ]
  },
  {
   "cell_type": "markdown",
   "metadata": {},
   "source": [
    "> **Exercice 16**    \n",
    "Ecrire dans un fichier fable2.txt, le texte de fable.txt mais en majuscule.  \n",
    "Puis d’ajouter le résultat du nombre de lettres de ce nouveau texte à la fin de celui-ci."
   ]
  }
 ],
 "metadata": {
  "dicho": {
   "author": "Denis Pinsard",
   "contact": "(prénom).(nom)@dichotomies.fr",
   "created": "2016-08-29",
   "description": "Les connaissances de base pour créer, modifier et manipuler les Notebooks Jupyter",
   "dockey": "ITV538",
   "license": true,
   "logo": true,
   "readonly": false,
   "subtitle": "",
   "title": "Débuter avec les notebooks",
   "updated": "2016-08-29",
   "uri": "http://dichotomies.fr/2016/informatique/info1/cours/debuter-avec-les-notebooks/"
  },
  "kernelspec": {
   "display_name": "Python 3",
   "language": "python",
   "name": "python3"
  },
  "language_info": {
   "codemirror_mode": {
    "name": "ipython",
    "version": 3
   },
   "file_extension": ".py",
   "mimetype": "text/x-python",
   "name": "python",
   "nbconvert_exporter": "python",
   "pygments_lexer": "ipython3",
   "version": "3.7.3"
  }
 },
 "nbformat": 4,
 "nbformat_minor": 1
}
