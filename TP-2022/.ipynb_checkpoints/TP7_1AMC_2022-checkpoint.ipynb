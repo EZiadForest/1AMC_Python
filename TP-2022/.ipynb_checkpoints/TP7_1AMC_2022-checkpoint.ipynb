{
 "cells": [
  {
   "cell_type": "markdown",
   "metadata": {},
   "source": [
    "![](fig/logoENSI.png)\n",
    "# Nom:                                      \n",
    "# Prénom:"
   ]
  },
  {
   "cell_type": "markdown",
   "metadata": {},
   "source": [
    "# <center>Introduction à la Programmation</center>\n",
    "## <center>TP d'initiation à l'informatique</center> \n",
    "###  \n",
    "***\n",
    "**ENSICAEN  1A MC** \n",
    "novembre 2022\n",
    "####  E. Ziad-Forest \n",
    "Mailto:ziad@ensicaen.fr  "
   ]
  },
  {
   "cell_type": "markdown",
   "metadata": {},
   "source": [
    "ENSICAEN, 6 boulevard Maréchal Juin – CS45053 – 14050 Caen Cedex 4, Tél. : +33 (0)2 31 45 27 50  \n",
    "© Ce document est la propriété de l’ENSICAEN, il ne peut être ni communiqué, ni reproduit sans son autorisation."
   ]
  },
  {
   "cell_type": "markdown",
   "metadata": {},
   "source": [
    "> **Remarque :**\n",
    "- Une attention particulière sera porté à la qualité des commentaires et justifications fournies."
   ]
  },
  {
   "cell_type": "markdown",
   "metadata": {},
   "source": [
    "**Pour rappel :**"
   ]
  },
  {
   "cell_type": "code",
   "execution_count": null,
   "metadata": {},
   "outputs": [],
   "source": [
    "# Ceci est un commentaire où une justification dans une cellule de code ..."
   ]
  },
  {
   "cell_type": "markdown",
   "metadata": {},
   "source": [
    "> * La table ci-dessous des questions, vous permettra de vous déplacer facilement de le document.\n",
    "* Vous y retrouverez les fonctions et procédures ainsi que les dictionnaires utilisez.\n",
    "* Vous pourrez rapidement y revenir en cliquant sur de nombreux liens <A HREF=\"#sommaire\">Sommaire</A>.\n",
    "* Deux fichiers de données seront utilisées et sont situés à la racine du projet.\n",
    "    * brin_adn1.txt\n",
    "    * proteine.csv\n"
   ]
  },
  {
   "cell_type": "markdown",
   "metadata": {},
   "source": [
    "### Table des questions <a class=\"anchor\" id=\"sommaire\"></a>\n",
    "\n",
    "* [I/ Echauffement](#chapter1)\n",
    "    * [Question 1](#section_1_1)\n",
    "    * [Slicing](#section_1_2)\n",
    "        * [Question 2](#section_1_2_1)\n",
    "        * [Question 3](#section_1_2_2)\n",
    "        * [Question 4](#section_1_2_3)  *`seq_codon()`*\n",
    "    * [Lecture dans des fichiers](#section_1_3)\n",
    "        * [Question 5](#section_1_3_1)\n",
    "        * [Question 6](#section_1_3_2) *`lire_seq()`*\n",
    "    * [Ecriture dans des fichiers](#section_1_4)\n",
    "        * [Question 7](#section_1_4_1) *`ecrire_seq()`*\n",
    "        * [Question 8](#section_1_4_2) *`traitement_codon_fichiers()`*\n",
    "    * [Recherche d'un motif dans une chaine](#section_1_5)\n",
    "        * [Question 9](#section_1_5_1) *`rech_codon()`*\n",
    "* [II/ Dictionnaires](#chapter2)\\\n",
    "`d_nomMoleculeADN`, `d_adn2arn`, `d_adn2arnm`, `d_adn2protein`, `d_arn2protein`\n",
    "    * [Question 10](#section_2_1)\n",
    "    * [Construction de dictionnaires à partir d'un fichier .csv](#section_2_2)\n",
    "        * [Question 11](#section_2_2_1)\n",
    "        * [Question 12](#section_2_2_2) *`d_proteine`*\n",
    "* [III/ Des questions sur le séquençage](#chapter3)\n",
    "    * [Question 13](#section_3_1) *`nom_molecule_adn()`*\n",
    "    * [Conversion ADN ⇒ ARN](#section_3_2)\n",
    "        * [Question 14](#section_3_2_1) *`adn2arn()`*\n",
    "    * [Conversion ADN ⇒ ARNm](#section_3_3)   \n",
    "        * [Question 15](#section_3_3_1) *`adn2arnm()`*\n",
    "    * [Conversion ADN ⇒ Protéine](#section_3_4)\n",
    "        * [Question 16](#section_3_4_1) *`adn2protein()`*  \n",
    "\n"
   ]
  },
  {
   "cell_type": "markdown",
   "metadata": {},
   "source": [
    "# Théorie de la traduction : ADN ARN (ou ARNm) ⇒ protéine\n"
   ]
  },
  {
   "cell_type": "markdown",
   "metadata": {},
   "source": [
    "Nous pouvons considérer l'ADN (l'acide dioxyribonucléique) comme une chaîne de caractères unidimensionnelle avec quatre caractères au choix. Ces caractères sont A, C, G et T. Ils se tiennent pour les premières lettres avec les quatre nucléotides utilisés pour construire l'ADN. Les noms complets de ces nucléotides sont Adénine, Cytosine, Guanine et Thymine. Chaque séquence unique de trois caractères de nucléotides, appelée **codon**, correspond à un acide aminé. La séquence d'acides aminés est unique pour chaque type de protéine et toutes les protéines sont construites à partir du même ensemble de seulement 20 acides aminés pour tous les êtres vivants."
   ]
  },
  {
   "cell_type": "markdown",
   "metadata": {},
   "source": [
    "Le but du travail demander est d'obtenir des résultats de transcriptions en s'inspirant du site ci-dessous :\n",
    "\n",
    "[Converts sequences from DNA to RNA and from this to protein](http://biomodel.uah.es/en/lab/cybertory/analysis/trans.htm)"
   ]
  },
  {
   "cell_type": "markdown",
   "metadata": {},
   "source": [
    "# I/ Introduction <a class=\"anchor\" id=\"chapter1\"></a>\n"
   ]
  },
  {
   "cell_type": "markdown",
   "metadata": {},
   "source": [
    "> **Remarques** Portez une attention toute particulière aux instructions et fonctions de cette partie (que vous pourrez réutiliser), car la suite du sujet s'appuira fréquemment sur les réponses à ces questions."
   ]
  },
  {
   "cell_type": "code",
   "execution_count": null,
   "metadata": {},
   "outputs": [],
   "source": [
    "# Soit la variable :\n",
    "alphabet='abcdefghijklmnopqrstuvwxyz'"
   ]
  },
  {
   "cell_type": "markdown",
   "metadata": {},
   "source": [
    "### Question 1 <a class=\"anchor\" id=\"section_1_1\"></a>\n",
    "Convertir en lettre majuscule la chaine `alphabet` dans la variable `ALPHABET` à l'aide `.upper()` ."
   ]
  },
  {
   "cell_type": "code",
   "execution_count": null,
   "metadata": {},
   "outputs": [],
   "source": [
    "# Completez l'instruction suivante\n",
    "ALPHABET="
   ]
  },
  {
   "cell_type": "code",
   "execution_count": null,
   "metadata": {},
   "outputs": [],
   "source": [
    "# Test\n",
    "print(ALPHABET)"
   ]
  },
  {
   "cell_type": "markdown",
   "metadata": {},
   "source": [
    "## Slicing <a class=\"anchor\" id=\"section_1_2\"></a>\n",
    "> **Rappel :** Si l'on souhaite extraire de la liste `ALPHABET` les lettres de la 12ème à la 20ème incluse par pas de 2, les instructions suivantes permettent de visualiser le résultat\n",
    "```\n",
    "mot=ALPHABET[12:20:2]\n",
    "print(mot)\n",
    "```"
   ]
  },
  {
   "cell_type": "markdown",
   "metadata": {},
   "source": [
    "### Question 2 <a class=\"anchor\" id=\"section_1_2_1\"></a>\n",
    "\n",
    "En vous inspirant du rappel ci-dessus, donner une instruction, utilisant le slicing sur la chaine `ALPHABET`,  qui permet d'ecrire un mot commençant par la lettre B, puis effectue des sauts de 3 lettres jusqu'à la 13ème lettre (incluse) ?"
   ]
  },
  {
   "cell_type": "code",
   "execution_count": null,
   "metadata": {},
   "outputs": [],
   "source": [
    "# Completez l'instruction suivante\n",
    "mot= #?\n",
    "# Test\n",
    "print(mot)"
   ]
  },
  {
   "cell_type": "markdown",
   "metadata": {},
   "source": [
    "### Question 3 <a class=\"anchor\" id=\"section_1_2_2\"></a>\n",
    "Ecrire les instructions qui lisent la chaine `ALPHABET`, imprime trois lettres à la fois pour chaque lettre de la chaine `ALPHABET`, de tel sorte que chaque lettre de `ALPHABET` soit l'initiale de ses 2 voisines consécutives, avant de passer à la ligne.\\\n",
    "Ainsi, la trace d'execution devrait être :\n",
    "``` console\n",
    "ABC    \n",
    "BCD    \n",
    "CDE    \n",
    "DEF    \n",
    "...    \n",
    "XYZ    \n",
    "YZ    \n",
    "Z  \n",
    "``` "
   ]
  },
  {
   "cell_type": "code",
   "execution_count": null,
   "metadata": {},
   "outputs": [],
   "source": [
    "# votre code ici"
   ]
  },
  {
   "cell_type": "markdown",
   "metadata": {},
   "source": [
    "<div align=\"right\"><A HREF=\"#sommaire\">Sommaire</A></div>."
   ]
  },
  {
   "cell_type": "markdown",
   "metadata": {},
   "source": [
    "### Nous aurons par la suite besoin d'un \"Séquençage\" en codon\n",
    "Pour plus d'information [Wikipedia Codon](https://fr.wikipedia.org/wiki/Codon)"
   ]
  },
  {
   "cell_type": "markdown",
   "metadata": {},
   "source": [
    "### Question 4 <a class=\"anchor\" id=\"section_1_2_3\"></a>\n",
    "1/ Comme dans la question précédente, écrire les instructions qui lit de nouveau, la chaine `ALPHABET`, mais cette fois, imprime trois lettres consécutives puis fait un saut de 3 lettres et continue ainsi.\n",
    "Ainsi, la trace d'execution devrait être :\n",
    "``` console\n",
    "ABC    \n",
    "DEF    \n",
    "GHI    \n",
    "JKL    \n",
    "...    \n",
    "VWX    \n",
    "YZ \n",
    "``` "
   ]
  },
  {
   "cell_type": "markdown",
   "metadata": {},
   "source": [
    "Corriger et donner l'expression de `?`, dans le code ci-dessous, afin qu'il réponde à la question 4 1/."
   ]
  },
  {
   "cell_type": "code",
   "execution_count": 4,
   "metadata": {},
   "outputs": [],
   "source": [
    "i=0\n",
    "for elt in ALPHABET[::3]\n",
    "print(ALPHABET[3*i:?])\n",
    "i=i+1"
   ]
  },
  {
   "cell_type": "markdown",
   "metadata": {},
   "source": [
    "2/ Ecrivez une fonction `seq_codon`qui prend en paramètre une chaine de caractères et retourne une chaine séquencée comme dans la question précédente.\\\n",
    "Trace d'execution \n",
    "```console\n",
    "seq_codon(alphabet)\n",
    "abc def ghi jkl ... yz\n",
    "\n",
    "```"
   ]
  },
  {
   "cell_type": "code",
   "execution_count": null,
   "metadata": {},
   "outputs": [],
   "source": [
    "# votre code ici"
   ]
  },
  {
   "cell_type": "code",
   "execution_count": null,
   "metadata": {},
   "outputs": [],
   "source": [
    "# test\n",
    "print(seq_codon(alphabet))"
   ]
  },
  {
   "cell_type": "markdown",
   "metadata": {},
   "source": [
    "<div align=\"right\"><A HREF=\"#sommaire\">Sommaire</A></div>."
   ]
  },
  {
   "cell_type": "markdown",
   "metadata": {},
   "source": [
    "## Lecture dans des fichiers <a class=\"anchor\" id=\"section_1_3\"></a>"
   ]
  },
  {
   "cell_type": "markdown",
   "metadata": {},
   "source": [
    "<a class=\"anchor\" id=\"section_1_3_1\"></a>\n",
    "Un exemple d'un brin ADN est situé dans le fichier `brin_adn1.txt`\n",
    "### Question 5 \n",
    "Ecrire une commande linux dans la cellule suivante afin de consulter ce fichier."
   ]
  },
  {
   "cell_type": "code",
   "execution_count": 7,
   "metadata": {},
   "outputs": [],
   "source": [
    "# Commande linux (vous aurez peut-être besoin de précéder votre commande de :   !   )\n"
   ]
  },
  {
   "cell_type": "markdown",
   "metadata": {},
   "source": [
    "> **Vocabulaire** \\\n",
    "> Les lettres **A, C, G, T**, dans le fichier `brin_adn1.txt` sont appelées ***nucléotides***.\\\n",
    "> Une séquence de trois nucléotides est appelée ***codon***"
   ]
  },
  {
   "cell_type": "markdown",
   "metadata": {},
   "source": [
    "### Question 6 <a class=\"anchor\" id=\"section_1_3_2\"></a>"
   ]
  },
  {
   "cell_type": "markdown",
   "metadata": {},
   "source": [
    "1/ Corriger la fonction `lire_seq` qui prend en paramètre le nom d'un fichier, lit ce fichier, et retourne une variable `seq` de type `str`."
   ]
  },
  {
   "cell_type": "code",
   "execution_count": null,
   "metadata": {},
   "outputs": [],
   "source": [
    "# A corriger dans cette cellule\n",
    "def lire_seq2(fichier);\n",
    "f=open(fichier, r)\n",
    "seq = f.read[]\n",
    "f.close()\n",
    "retour seq"
   ]
  },
  {
   "cell_type": "markdown",
   "metadata": {},
   "source": [
    "2/ Tester votre fonction `lire_seq` avec le fichier `brin_adn1.txt` "
   ]
  },
  {
   "cell_type": "markdown",
   "metadata": {},
   "source": [
    "<div align=\"right\"><A HREF=\"#sommaire\">Sommaire</A></div>."
   ]
  },
  {
   "cell_type": "markdown",
   "metadata": {},
   "source": [
    "## Ecriture dans des fichiers <a class=\"anchor\" id=\"section_1_4\"></a>"
   ]
  },
  {
   "cell_type": "markdown",
   "metadata": {},
   "source": [
    "### Question 7 <a class=\"anchor\" id=\"section_1_4_1\"></a>\n",
    "Après le traitement de `seq` en ***codon*** (voir question 4) dans un variable `seq2`, écrire le résultat obtenu dans un fichier  `brin_adn1_codon.txt`.\\\n",
    "Celui-ci devrait contenir une séquence de la forme :\n",
    "```\n",
    "GAT ATA TAC ... TTA\n",
    "```\n",
    "> ***Attention***, *aux modes d'ouverture (r, w, a ...) de la fonction `open()` *"
   ]
  },
  {
   "cell_type": "code",
   "execution_count": null,
   "metadata": {},
   "outputs": [],
   "source": [
    "# Vos instructions ici"
   ]
  },
  {
   "cell_type": "code",
   "execution_count": null,
   "metadata": {},
   "outputs": [],
   "source": [
    "# Vérification du contenu de brin_adn1_codon.txt (voir Q5)"
   ]
  },
  {
   "cell_type": "markdown",
   "metadata": {},
   "source": [
    "<div align=\"right\"><A HREF=\"#sommaire\">Sommaire</A></div>."
   ]
  },
  {
   "cell_type": "markdown",
   "metadata": {},
   "source": [
    "### Question 8 <a class=\"anchor\" id=\"section_1_4_2\"></a>\n",
    "\n",
    "**(Plus difficile)** Ecrire une fonction qui prend en entrer un fichier à lire, le traite en séquençage ***codon***, puis écrit son résultat dans un fichier."
   ]
  },
  {
   "cell_type": "code",
   "execution_count": null,
   "metadata": {},
   "outputs": [],
   "source": [
    "# Compléter la fonction traitement_codon_fichiers\n",
    "def traitement_codon_fichiers(fichierEntre,FichierSortie):\n"
   ]
  },
  {
   "cell_type": "markdown",
   "metadata": {},
   "source": [
    "<div align=\"right\"><A HREF=\"#sommaire\">Sommaire</A></div>."
   ]
  },
  {
   "cell_type": "markdown",
   "metadata": {},
   "source": [
    "## Recherche d'un motif dans une chaine <a class=\"anchor\" id=\"section_1_5\"></a>"
   ]
  },
  {
   "cell_type": "markdown",
   "metadata": {},
   "source": [
    "<a class=\"anchor\" id=\"section_1_5_1\"></a>\n",
    "> Nous aurons besoin dans un brin ARNm de démarrer à partir d'un ***codon*** particulier (AUG par exemple)\n",
    "### Question 9\n",
    "\n",
    "Quelles instructions (ou fonction) utiliseriez-vous afin de déterminer dans la chaine `lire_seq('brin_adn1.txt')` la position de la 1ère séquence `'TAC'` ?\\\n",
    "*Inspirez-vous de la question 3 et de la sortie de boucle `break`, par exemple*"
   ]
  },
  {
   "cell_type": "markdown",
   "metadata": {},
   "source": [
    "<div align=\"right\"><A HREF=\"#sommaire\">Sommaire</A></div>."
   ]
  },
  {
   "cell_type": "markdown",
   "metadata": {},
   "source": [
    "# Des dictionnaires <a class=\"anchor\" id=\"chapter2\"></a>"
   ]
  },
  {
   "cell_type": "markdown",
   "metadata": {},
   "source": [
    "> **A utiliser sans modération**"
   ]
  },
  {
   "cell_type": "code",
   "execution_count": null,
   "metadata": {},
   "outputs": [],
   "source": [
    "d_nomMoleculeADN ={'A':'Adenine','G':'Guanine','C':'Cytosine','T':'Thymine'}"
   ]
  },
  {
   "cell_type": "code",
   "execution_count": null,
   "metadata": {},
   "outputs": [],
   "source": [
    "# Conversion ADN vers ARN\n",
    "d_adn2arn = {'A':'A','T':'U','G':'G','C':'C'}"
   ]
  },
  {
   "cell_type": "code",
   "execution_count": null,
   "metadata": {},
   "outputs": [],
   "source": [
    "# Conversion ADN vers ARNm\n",
    "d_adn2arnm = {'A':'U','T':'A','G':'C','C':'G'}"
   ]
  },
  {
   "cell_type": "code",
   "execution_count": null,
   "metadata": {},
   "outputs": [],
   "source": [
    "# Conversion codon ADN en Proteine\n",
    "d_adn2protein = {'ATA':'I', 'ATC':'I', 'ATT':'I', 'ATG':'M',\n",
    "               'ACA':'T', 'ACC':'T', 'ACG':'T', 'ACT':'T',\n",
    "               'AAC':'N', 'AAT':'N', 'AAA':'K', 'AAG':'K',\n",
    "               'AGC':'S', 'AGT':'S', 'AGA':'R', 'AGG':'R',                \n",
    "               'CTA':'L', 'CTC':'L', 'CTG':'L', 'CTT':'L',\n",
    "               'CCA':'P', 'CCC':'P', 'CCG':'P', 'CCT':'P',\n",
    "               'CAC':'H', 'CAT':'H', 'CAA':'Q', 'CAG':'Q',\n",
    "               'CGA':'R', 'CGC':'R', 'CGG':'R', 'CGT':'R',\n",
    "               'GTA':'V', 'GTC':'V', 'GTG':'V', 'GTT':'V',\n",
    "               'GCA':'A', 'GCC':'A', 'GCG':'A', 'GCT':'A',\n",
    "               'GAC':'D', 'GAT':'D', 'GAA':'E', 'GAG':'E',\n",
    "               'GGA':'G', 'GGC':'G', 'GGG':'G', 'GGT':'G',\n",
    "               'TCA':'S', 'TCC':'S', 'TCG':'S', 'TCT':'S',\n",
    "               'TTC':'F', 'TTT':'F', 'TTA':'L', 'TTG':'L',\n",
    "               'TAC':'Y', 'TAT':'Y', 'TAA':'_', 'TAG':'_',\n",
    "               'TGC':'C', 'TGT':'C', 'TGA':'_', 'TGG':'W',\n",
    "              }"
   ]
  },
  {
   "cell_type": "code",
   "execution_count": null,
   "metadata": {},
   "outputs": [],
   "source": [
    "# conversion de codon ARN vers Proteine    \n",
    "d_arn2protein = {'GCA':'A',    'GCC':'A',    'GCG':'A',    'GCU':'A',    \n",
    "                'UGC':'C',    'UGU':'C',    'GAC':'D',    'GAU':'D',    \n",
    "                'GAA':'E',    'GAG':'E',    'UUC':'F',    'UUU':'F',    \n",
    "                'GGA':'G',    'GGC':'G',    'GGG':'G',    'GGU':'G',    \n",
    "                'CAC':'H',    'CAU':'H',    'AUA':'I',    'AUC':'I',    \n",
    "                'AUU':'I',    'AAA':'K',    'AAG':'K',    'UUA':'L',    \n",
    "                'UUG':'L',    'CUA':'L',    'CUC':'L',    'CUG':'L',    \n",
    "                'CUU':'L',    'AUG':'M',    'AAC':'N',    'AAU':'N',    \n",
    "                'CCA':'P',    'CCC':'P',    'CCG':'P',    'CCU':'P',    \n",
    "                'CAA':'Q',    'CAG':'Q',    'AGA':'R',    'AGG':'R',    \n",
    "                'CGA':'R',    'CGC':'R',    'CGU':'R',    'CGG':'R',    \n",
    "                'AGC':'S',    'AGU':'S',    'UCA':'S',    'UCC':'S',    \n",
    "                'UCG':'S',    'UCU':'S',    'ACA':'T',    'ACC':'T',    \n",
    "                'ACG':'T',    'ACU':'T',    'GUA':'V',    'GUC':'V',    \n",
    "                'GUG':'V',    'GUU':'V',    'UGG':'W',    'UAC':'Y',    \n",
    "                'UAU':'Y',    'UAG':'!',    'UAA':'!',    'UGA':'!'} "
   ]
  },
  {
   "cell_type": "markdown",
   "metadata": {},
   "source": [
    "### Question 10 <a class=\"anchor\" id=\"section_2_1\"></a>\n",
    "A partir du dictionnaire précédent `d_arn2protein` comment obtenir les listes de toutes les séquences de 3 lettres pour chacun des acides aminés.\\\n",
    "Par exemple\\\n",
    "la Glycine: G donnera les séquences dans la liste suivante : [GGA,GGU,GGG,GGC] \\\n",
    "la Valine: V donnera les séquences dans la liste suivante : [GUA,GUU,GUG,GUC] \\\n",
    "...\n"
   ]
  },
  {
   "cell_type": "markdown",
   "metadata": {},
   "source": [
    "<div align=\"right\"><A HREF=\"#sommaire\">Sommaire</A></div>."
   ]
  },
  {
   "cell_type": "markdown",
   "metadata": {},
   "source": [
    "## Construction de dictionnaires à partir d'un fichier .csv <a class=\"anchor\" id=\"section_2_2\"></a>"
   ]
  },
  {
   "cell_type": "markdown",
   "metadata": {},
   "source": [
    "### Question 11 <a class=\"anchor\" id=\"section_2_2_1\"></a>\n",
    "Utiliser une commande linux dans la cellule suivante afin de consulter le contenu du fichier `proteine.csv`"
   ]
  },
  {
   "cell_type": "code",
   "execution_count": null,
   "metadata": {},
   "outputs": [],
   "source": [
    "# votre instruction linux ci-dessous"
   ]
  },
  {
   "cell_type": "markdown",
   "metadata": {},
   "source": [
    "> **Attention** Observez bien ce fichier afin de répondre à la question suivante."
   ]
  },
  {
   "cell_type": "markdown",
   "metadata": {},
   "source": [
    "### Question 12 <a class=\"anchor\" id=\"section_2_2_2\"></a>\n",
    "Les instructions de la cellules suivantes permettent normalement de créer un dictionnaire `d_proteine` à partir du fichier `proteine.csv`, cependant un certain nombre d'erreurs se sont malheureusement glissées. \n",
    "\n",
    "Veuillez toutes les corriger afin d'obtenir le dictionnaire `d_proteine` suivant :\n",
    "```\n",
    "{'A ': 'alanine ',\n",
    " 'R ': 'arginine ',\n",
    " 'N ': 'asparagine ',\n",
    "\n",
    " ...\n",
    "\n",
    " 'W ': 'tryptophane ',\n",
    " 'Y ': 'tyrosine ',\n",
    " 'V ': 'valine '}\n",
    "```\n",
    "> **Attention** l'ordre du dictionnaire peut-être modifié ..."
   ]
  },
  {
   "cell_type": "code",
   "execution_count": null,
   "metadata": {},
   "outputs": [],
   "source": [
    "# Corrigez cette cellule\n",
    "# Conversion lettre (protéine) en nom de la protéine\n",
    "import csv\n",
    "d_proteine={:}\n",
    "with open('proteine.csv', newline='') as csvfile:\n",
    "dic_lu = csv.DictReader(csvfile)\n",
    "    for row in dic_lu\n",
    "    d_proteine[row['AcideAminé']]= row['Code3lettr']"
   ]
  },
  {
   "cell_type": "markdown",
   "metadata": {},
   "source": [
    "<div align=\"right\"><A HREF=\"#sommaire\">Sommaire</A></div>."
   ]
  },
  {
   "cell_type": "markdown",
   "metadata": {},
   "source": [
    "# Des questions sur le séquençage <a class=\"anchor\" id=\"chapter3\"></a>"
   ]
  },
  {
   "cell_type": "markdown",
   "metadata": {},
   "source": [
    "### Question  13 <a class=\"anchor\" id=\"section_3_1\"></a>\n",
    "Ecrire une procedure qui donne à l'écran, le nom des molécules composant le brin d'ADN du fichier `brin_adn1.txt`."
   ]
  },
  {
   "cell_type": "markdown",
   "metadata": {},
   "source": [
    "<div align=\"right\"><A HREF=\"#sommaire\">Sommaire</A></div>."
   ]
  },
  {
   "cell_type": "markdown",
   "metadata": {},
   "source": [
    "## Conversion ADN ⇒ ARN <a class=\"anchor\" id=\"section_3_2\"></a>"
   ]
  },
  {
   "cell_type": "markdown",
   "metadata": {},
   "source": [
    "### Question 14 <a class=\"anchor\" id=\"section_3_2_1\"></a>\n",
    "Ecrire une fonction `adn2arn` qui prend en parametre un brin ADN et retourne un brin ARN.\n",
    "> Uniquement le T du brin ADN est changé en U dans la sequence ARN (voir dictionnaire `d_adn2arn`)"
   ]
  },
  {
   "cell_type": "markdown",
   "metadata": {},
   "source": [
    "## Conversion ADN ⇒ ARNm <a class=\"anchor\" id=\"section_3_3\"></a>"
   ]
  },
  {
   "cell_type": "markdown",
   "metadata": {},
   "source": [
    "### Question 15 <a class=\"anchor\" id=\"section_3_3_1\"></a>\n",
    "Ecrire, de même, une fonction `adn2arnm` qui prend en parametre un brin ADN et retourne un brin ARNm.\\\n",
    "*Voir les changements dans le dictionnaire `d_adn2arnm`*\n"
   ]
  },
  {
   "cell_type": "markdown",
   "metadata": {},
   "source": [
    " ## Conversion ADN ⇒ Protéine <a class=\"anchor\" id=\"section_3_4\"></a>"
   ]
  },
  {
   "cell_type": "markdown",
   "metadata": {},
   "source": [
    "### Question 16 <a class=\"anchor\" id=\"section_3_4_1\"></a>\n",
    "Ecrire, de même, une fonction `adn2protein` qui prend en parametre un brin ADN et retourne la lettre de chaque protéine qui la compose.\\\n",
    "*Voir les changements dans le dictionnaire `d_adn2protein`*"
   ]
  },
  {
   "cell_type": "markdown",
   "metadata": {},
   "source": [
    "<div align=\"right\"><A HREF=\"#sommaire\">Sommaire</A></div>."
   ]
  }
 ],
 "metadata": {
  "kernelspec": {
   "display_name": "Python 3",
   "language": "python",
   "name": "python3"
  },
  "language_info": {
   "codemirror_mode": {
    "name": "ipython",
    "version": 3
   },
   "file_extension": ".py",
   "mimetype": "text/x-python",
   "name": "python",
   "nbconvert_exporter": "python",
   "pygments_lexer": "ipython3",
   "version": "3.7.3"
  }
 },
 "nbformat": 4,
 "nbformat_minor": 2
}
