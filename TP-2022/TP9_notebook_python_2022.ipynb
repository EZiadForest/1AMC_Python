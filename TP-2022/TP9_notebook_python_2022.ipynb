{
 "cells": [
  {
   "cell_type": "markdown",
   "metadata": {},
   "source": [
    "![](fig/logoENSI.png)\n",
    " ![](fig/logoPython.png)\n",
    "***\n",
    "# TP9\n",
    "Compte-rendu de \n",
    "\n",
    "# Classes - POO\n",
    "***\n",
    "**ENSICAEN  1A MC**  2022\n",
    "\n",
    "## Eric Ziad-Forest\n",
    "***\n",
    "\n",
    "**Auteur :**\n",
    "\n",
    "- Eric Ziad-Forest [ziad@ensicaen.fr]\n",
    "***\n",
    "*Contenu sous licence [CC BY-SA 4.0](https://creativecommons.org/licenses/by-sa/4.0)*"
   ]
  },
  {
   "cell_type": "markdown",
   "metadata": {},
   "source": [
    "### Enseignants des groupes de TD/TP\n",
    "- Groupe 1: Philippe Lefebvre [lefebvre@ensicaen.fr]\n",
    "- Groupe 2: Tanguy Gernot [tanguy.gernot@ensicaen.fr]\n",
    "- Groupe 3: Christine Porquet [chris@ensicaen.fr]\n",
    "- Groupe 4: Eric Ziad-Forest [ziad@ensicaen.fr] \n",
    "***"
   ]
  },
  {
   "cell_type": "markdown",
   "metadata": {},
   "source": [
    "# Classes\n",
    "\n",
    "Ce TP a pour but de vous familiariser avec la notion de classes, qui permet de créer ses propres objets. Pour savoir comment on construit une classe, vous pouvez vous référer au cours et au lien suivant :\n",
    "\n",
    "- [tutoriel officiel Python](https://docs.python.org/2/tutorial/classes.html#a-first-look-at-classes)\n",
    "\n",
    "<!--\n",
    "Quelques remarques :\n",
    "- une classe doit forcément contenir la fonction `__init__(self, ...)` qui sert à construire l'objet proprement dit avec des arguments donnés (les `...`),er\n",
    "- si on veut afficher cet objet, il faut rajouter la méthode `__str__(self)` qui va renvoyer une chaine de caractères représentant l'objet.\n",
    "-->"
   ]
  },
  {
   "cell_type": "markdown",
   "metadata": {},
   "source": [
    "## Polygones et cercles\n",
    "\n",
    "### Polygones\n",
    "\n",
    "Un polygone peut être représenté par une liste de points dans le plan. Pour cela, on va définir des structures (appellées classes) pour manipuler simplement des polygones. \n",
    "\n",
    "**Attention** : pour cet exercice, tout le code sera à écrire dans la cellule ci-dessous."
   ]
  },
  {
   "cell_type": "code",
   "execution_count": 70,
   "metadata": {},
   "outputs": [],
   "source": [
    "from math import *\n",
    "\n",
    "class Point():\n",
    "    def __init__(self, abscisse, ordonnee):\n",
    "        self.x, self.y = abscisse, ordonnee\n",
    "    \n",
    "    def __str__(self):\n",
    "        return \"(\" + str(self.x) + \", \" + str(self.y) + \")\"\n",
    "    \n",
    "    def egal_a(self, other):\n",
    "        if self.x == other.x and self.y == other.y:\n",
    "            return True\n",
    "        return False\n",
    "    \n",
    "    def distance(self, other):\n",
    "        return sqrt((self.x - other.x)**2 - (self.y - other.y)**2)\n",
    "\n",
    "class Polygone:\n",
    "    \n",
    "    def __init__(self, points):\n",
    "        self.points = points[:]\n",
    "        self.taille = points\n",
    "    \n",
    "    def __str__(self):\n",
    "        s = \"[\"\n",
    "        for i in range(len(self.points)):\n",
    "            if i==len(self.points)-1:\n",
    "                s += str(self.points[i])\n",
    "            else:\n",
    "                s += str(self.points[i])+\", \"\n",
    "        return s +\"]\"\n",
    "    def __len__(self):\n",
    "        return len(self.taille)\n",
    "    \n",
    "    def position_sommet(p):\n",
    "        for i in range(len(self.points)):\n",
    "            if self.points[i].egal_a(p) :\n",
    "                return i\n",
    "        return\n",
    "            \n",
    "    def ajouter(self, pt):\n",
    "        if self.position_sommet(pt)==None:\n",
    "            self.points.append(pt)\n",
    "    \n",
    "    def supprimer(self, pt):\n",
    "        x = self.position_sommet(pt)\n",
    "        if x != None:\n",
    "            self.points.pop(x)\n",
    "   "
   ]
  },
  {
   "cell_type": "markdown",
   "metadata": {},
   "source": [
    "* Un point est défini par son abscisse `x` et son ordonnée `y`. On veut pouvoir initialiser les coordonnées d'un point, et afficher un point sous forme de chaîne de caractères. Complétez, dans la cellule ci-dessus, l'ébauche de classe `Point`, en y ajoutant une méthode `initialise(self, abscisse,   ordonnee)` ne renvoyant rien, et une méthode `vers_chaine(self)` renvoyant une chaîne de caractères. Exemple d'utilisation :"
   ]
  },
  {
   "cell_type": "code",
   "execution_count": 71,
   "metadata": {},
   "outputs": [
    {
     "name": "stdout",
     "output_type": "stream",
     "text": [
      "(0, 2)\n"
     ]
    }
   ],
   "source": [
    "pt = Point(0,2)\n",
    "print(pt)  # doit afficher (0, 2)\n"
   ]
  },
  {
   "cell_type": "markdown",
   "metadata": {},
   "source": [
    "* À votre avis, à quoi sert le mot-clé `self` ?"
   ]
  },
  {
   "cell_type": "markdown",
   "metadata": {},
   "source": [
    "self désigne l'objet sur lequel la méthode lst est appelée."
   ]
  },
  {
   "cell_type": "markdown",
   "metadata": {},
   "source": [
    "* On veut maintenant regarder si 2 points sont égaux. Pour cela, ajouter la méthode `egal_a(self, other)` qui renvoie `True` si les 2 points en arguments sont égaux, et `False` sinon. Par exemple :"
   ]
  },
  {
   "cell_type": "code",
   "execution_count": 72,
   "metadata": {},
   "outputs": [
    {
     "name": "stdout",
     "output_type": "stream",
     "text": [
      "True\n",
      "False\n"
     ]
    }
   ],
   "source": [
    "pt2 = Point(0, 2)\n",
    "print(pt.egal_a(pt2))  # doit afficher True\n",
    "pt2 = Point(0, 1)\n",
    "print(pt.egal_a(pt2))  # doit afficher False"
   ]
  },
  {
   "cell_type": "markdown",
   "metadata": {},
   "source": [
    "* Ajoutez à la classe `Point` une méthode `distance(self, other)` renvoyant la distance entre les deux points. Vous pourrez utiliser la fonction `sqrt` du module `math`."
   ]
  },
  {
   "cell_type": "markdown",
   "metadata": {},
   "source": [
    "* On va maintenant compléter la classe `Polygone` ébauchée ci-dessus. Les objets de type `Polygone` seront caractérisés par une liste d'objets `Point`. Ajoutez dans la définition de la classe `Polygone` la méthode `initialise(self, points)` servant à initialiser la liste des points d'un polygone."
   ]
  },
  {
   "cell_type": "markdown",
   "metadata": {},
   "source": [
    "* Il serait utile de savoir si un `Point` fait partie des sommets d'un `Polygon`. Malheureusement, l’opérateur `in` ne fonctionnera pas directement avec notre type `Point`. Rajoutez ci-dessus une méthode `position_sommet(p)` qui renvoie la position du `Point p` dans la liste de sommets si `p` s’y trouve, et `None` sinon."
   ]
  },
  {
   "cell_type": "markdown",
   "metadata": {},
   "source": [
    "* Ajoutez à la classe `Polygone` les méthodes `ajouter(self, pt)` qui ajoute un `Point` `pt` à la liste de points s’il ne s’y trouve pas encore, et `supprimer(self, pt)` qui le supprime s’il s’y trouve. L’ajout se fait en fin de liste."
   ]
  },
  {
   "cell_type": "markdown",
   "metadata": {},
   "source": [
    "* Ajoutez à la classe `Polygon` la méthode `vers_chaine(self)` pour transformer un polygone en chaîne de caractères, par exemple comme ceci :"
   ]
  },
  {
   "cell_type": "code",
   "execution_count": 78,
   "metadata": {
    "scrolled": false
   },
   "outputs": [
    {
     "name": "stdout",
     "output_type": "stream",
     "text": [
      "[(0, 2), (0, 1), (1, 1)]\n"
     ]
    }
   ],
   "source": [
    "pt3 = Point(1, 1)\n",
    "poly = Polygone([pt, pt2, pt3])\n",
    "print(poly)  # doit afficher [(0, 2), (0, 1), (1, 1)]\n",
    "x = []"
   ]
  },
  {
   "cell_type": "markdown",
   "metadata": {},
   "source": [
    "Une manière plus experte de manipuler des objets que l'on a créés est de définir des méthodes spéciales, qui permettent d'utiliser les opérateurs et fonctions de base de Python sur ces objets. On pourrait par exemple écrire :"
   ]
  },
  {
   "cell_type": "code",
   "execution_count": 76,
   "metadata": {},
   "outputs": [
    {
     "name": "stdout",
     "output_type": "stream",
     "text": [
      "[(0, 0), (0, 1), (0, 2)] 3\n"
     ]
    },
    {
     "ename": "TypeError",
     "evalue": "argument of type 'Polygone' is not iterable",
     "output_type": "error",
     "traceback": [
      "\u001b[1;31m---------------------------------------------------------------------------\u001b[0m",
      "\u001b[1;31mTypeError\u001b[0m                                 Traceback (most recent call last)",
      "\u001b[1;32m<ipython-input-76-40e23d6b79fc>\u001b[0m in \u001b[0;36m<module>\u001b[1;34m()\u001b[0m\n\u001b[0;32m      1\u001b[0m \u001b[0mpoly\u001b[0m \u001b[1;33m=\u001b[0m \u001b[0mPolygone\u001b[0m\u001b[1;33m(\u001b[0m\u001b[1;33m[\u001b[0m\u001b[0mPoint\u001b[0m\u001b[1;33m(\u001b[0m\u001b[1;36m0\u001b[0m\u001b[1;33m,\u001b[0m\u001b[1;36m0\u001b[0m\u001b[1;33m)\u001b[0m\u001b[1;33m,\u001b[0m \u001b[0mPoint\u001b[0m\u001b[1;33m(\u001b[0m\u001b[1;36m0\u001b[0m\u001b[1;33m,\u001b[0m \u001b[1;36m1\u001b[0m\u001b[1;33m)\u001b[0m\u001b[1;33m,\u001b[0m \u001b[0mPoint\u001b[0m\u001b[1;33m(\u001b[0m\u001b[1;36m0\u001b[0m\u001b[1;33m,\u001b[0m \u001b[1;36m2\u001b[0m\u001b[1;33m)\u001b[0m\u001b[1;33m]\u001b[0m\u001b[1;33m)\u001b[0m\u001b[1;33m\u001b[0m\u001b[0m\n\u001b[0;32m      2\u001b[0m \u001b[0mprint\u001b[0m\u001b[1;33m(\u001b[0m\u001b[0mpoly\u001b[0m\u001b[1;33m,\u001b[0m \u001b[0mlen\u001b[0m\u001b[1;33m(\u001b[0m\u001b[0mpoly\u001b[0m\u001b[1;33m)\u001b[0m\u001b[1;33m)\u001b[0m\u001b[1;33m\u001b[0m\u001b[0m\n\u001b[1;32m----> 3\u001b[1;33m \u001b[0mprint\u001b[0m\u001b[1;33m(\u001b[0m\u001b[0mPoint\u001b[0m\u001b[1;33m(\u001b[0m\u001b[1;36m0\u001b[0m\u001b[1;33m,\u001b[0m \u001b[1;36m1\u001b[0m\u001b[1;33m)\u001b[0m \u001b[1;32min\u001b[0m \u001b[0mpoly\u001b[0m\u001b[1;33m)\u001b[0m\u001b[1;33m\u001b[0m\u001b[0m\n\u001b[0m",
      "\u001b[1;31mTypeError\u001b[0m: argument of type 'Polygone' is not iterable"
     ]
    }
   ],
   "source": [
    "poly = Polygone([Point(0,0), Point(0, 1), Point(0, 2)])\n",
    "print(poly, len(poly))\n",
    "print(Point(0, 1) in poly)"
   ]
  },
  {
   "cell_type": "markdown",
   "metadata": {},
   "source": [
    "* Cherchez dans la documentation officielle les méthodes spéciales qu'il est possible de redéfinir pour que ce code fonctionne, et écrivez une nouvelle version de vos classes en conséquence.\n",
    "\n",
    "  **Indication** : cherchez à quoi servent les méthodes `__init__`, `__str__`, `__len__`, etc. C'est détaillé par exemple sur [cette page](https://docs.python.org/3/reference/datamodel.html#special-method-names)."
   ]
  },
  {
   "cell_type": "markdown",
   "metadata": {},
   "source": [
    "### Cercles\n",
    "\n",
    "* Ecrivez une classe `CercleSimple` permettant de représenter un cercle sur base de son centre et de son rayon. N'oubliez pas de rajouter une méthode spéciale pour pouvoir afficher le cercle avec `print`."
   ]
  },
  {
   "cell_type": "code",
   "execution_count": 60,
   "metadata": {},
   "outputs": [
    {
     "name": "stdout",
     "output_type": "stream",
     "text": [
      "cercle de centre (0, 1) et de rayon 2\n"
     ]
    }
   ],
   "source": [
    "from math import *\n",
    "\n",
    "class CercleSimple(Point):\n",
    "    def __init__(self,Point,rayon):\n",
    "        self.y = Point\n",
    "        self.x=rayon\n",
    "    \n",
    "    def __str__(self):\n",
    "        return \"cercle de centre \"+ str(self.y) +\" et de rayon \" + str(self.x)\n",
    "    \n",
    "    def perimetre(self):\n",
    "        return 2*pi*(self.x)\n",
    "    \n",
    "    def aire(self):\n",
    "        return pi*((self.x)**2)\n",
    "    \n",
    "\n",
    "C = CercleSimple(Point(0,1), 2)\n",
    "print(C)  # doit afficher par exemple : \"cercle de centre (0,2) et de rayon 2\""
   ]
  },
  {
   "cell_type": "markdown",
   "metadata": {},
   "source": [
    "* Rajoutez les méthodes `aire(self)` et `perimetre(self)`, qui renverront les valeurs correspondantes (vous pouvez utiliser la constante `pi` du module `math`)."
   ]
  },
  {
   "cell_type": "markdown",
   "metadata": {},
   "source": [
    "## Détection de collisions\n",
    "\n",
    "On va maintenant raisonner en terme de collisions, comme dans un jeu vidéo. Notre univers sera simplement composé de cercles et de rectangles. "
   ]
  },
  {
   "cell_type": "markdown",
   "metadata": {},
   "source": [
    "### Affichage à l'écran : cercles\n",
    "\n",
    "En guise d'échauffement, affichons à l'écran des cercles. Pour cela, on va utiliser le paquet `matplotlib` qui contient sa propre définition d'un cercle et d'un rectangle. Nous allons \"coller\" par-dessous notre définition précédente.\n",
    "\n",
    "On va ici visualiser des cercles et des rectangles à l'aide de l'outil `matplotlib` (déjà utilisé en TP pour tracer des courbes). On vous fournit le code ci-dessous, redéfinissant la classe `Cercle`. \n",
    "\n",
    "**Remarque :** Ce code utilise le mécanisme d'héritage. Sa compréhension en détail n'est pas exigible dans ce cours."
   ]
  },
  {
   "cell_type": "code",
   "execution_count": 69,
   "metadata": {},
   "outputs": [
    {
     "ename": "AttributeError",
     "evalue": "'int' object has no attribute 'x'",
     "output_type": "error",
     "traceback": [
      "\u001b[1;31m---------------------------------------------------------------------------\u001b[0m",
      "\u001b[1;31mAttributeError\u001b[0m                            Traceback (most recent call last)",
      "\u001b[1;32m<ipython-input-69-7c4b1fffb6a1>\u001b[0m in \u001b[0;36m<module>\u001b[1;34m()\u001b[0m\n\u001b[0;32m      9\u001b[0m          \u001b[1;32mif\u001b[0m \u001b[0mself\u001b[0m\u001b[1;33m.\u001b[0m\u001b[0mrayon\u001b[0m \u001b[1;33m==\u001b[0m \u001b[1;36m0\u001b[0m\u001b[1;33m:\u001b[0m\u001b[1;33m\u001b[0m\u001b[0m\n\u001b[0;32m     10\u001b[0m                 \u001b[1;32mreturn\u001b[0m \u001b[1;32mTrue\u001b[0m\u001b[1;33m\u001b[0m\u001b[0m\n\u001b[1;32m---> 11\u001b[1;33m \u001b[0mC\u001b[0m \u001b[1;33m=\u001b[0m \u001b[0mCercle\u001b[0m\u001b[1;33m(\u001b[0m\u001b[1;36m0\u001b[0m\u001b[1;33m,\u001b[0m\u001b[1;36m2\u001b[0m\u001b[1;33m)\u001b[0m\u001b[1;33m\u001b[0m\u001b[0m\n\u001b[0m\u001b[0;32m     12\u001b[0m \u001b[0mC\u001b[0m\u001b[1;33m.\u001b[0m\u001b[0minit\u001b[0m\u001b[1;33m(\u001b[0m\u001b[1;33m)\u001b[0m\u001b[1;33m\u001b[0m\u001b[0m\n\u001b[0;32m     13\u001b[0m \u001b[0mprint\u001b[0m\u001b[1;33m(\u001b[0m\u001b[0mC\u001b[0m\u001b[1;33m)\u001b[0m\u001b[1;33m\u001b[0m\u001b[0m\n",
      "\u001b[1;32m<ipython-input-69-7c4b1fffb6a1>\u001b[0m in \u001b[0;36m__init__\u001b[1;34m(self, centre, rayon, **kwargs)\u001b[0m\n\u001b[0;32m      2\u001b[0m \u001b[1;32mclass\u001b[0m \u001b[0mCercle\u001b[0m\u001b[1;33m(\u001b[0m\u001b[0mpatches\u001b[0m\u001b[1;33m.\u001b[0m\u001b[0mCircle\u001b[0m\u001b[1;33m)\u001b[0m\u001b[1;33m:\u001b[0m\u001b[1;33m\u001b[0m\u001b[0m\n\u001b[0;32m      3\u001b[0m     \u001b[1;32mdef\u001b[0m \u001b[0m__init__\u001b[0m\u001b[1;33m(\u001b[0m\u001b[0mself\u001b[0m\u001b[1;33m,\u001b[0m \u001b[0mcentre\u001b[0m\u001b[1;33m,\u001b[0m \u001b[0mrayon\u001b[0m\u001b[1;33m,\u001b[0m \u001b[1;33m**\u001b[0m\u001b[0mkwargs\u001b[0m\u001b[1;33m)\u001b[0m\u001b[1;33m:\u001b[0m\u001b[1;33m\u001b[0m\u001b[0m\n\u001b[1;32m----> 4\u001b[1;33m         \u001b[0mpatches\u001b[0m\u001b[1;33m.\u001b[0m\u001b[0mCircle\u001b[0m\u001b[1;33m.\u001b[0m\u001b[0m__init__\u001b[0m\u001b[1;33m(\u001b[0m\u001b[0mself\u001b[0m\u001b[1;33m,\u001b[0m \u001b[1;33m(\u001b[0m\u001b[0mcentre\u001b[0m\u001b[1;33m.\u001b[0m\u001b[0mx\u001b[0m\u001b[1;33m,\u001b[0m\u001b[0mcentre\u001b[0m\u001b[1;33m.\u001b[0m\u001b[0my\u001b[0m\u001b[1;33m)\u001b[0m\u001b[1;33m,\u001b[0m \u001b[0mrayon\u001b[0m\u001b[1;33m,\u001b[0m \u001b[1;33m**\u001b[0m\u001b[0mkwargs\u001b[0m\u001b[1;33m)\u001b[0m\u001b[1;33m\u001b[0m\u001b[0m\n\u001b[0m\u001b[0;32m      5\u001b[0m         \u001b[0mself\u001b[0m\u001b[1;33m.\u001b[0m\u001b[0mcentre\u001b[0m \u001b[1;33m=\u001b[0m \u001b[0mcentre\u001b[0m\u001b[1;33m\u001b[0m\u001b[0m\n\u001b[0;32m      6\u001b[0m         \u001b[0mself\u001b[0m\u001b[1;33m.\u001b[0m\u001b[0mrayon\u001b[0m \u001b[1;33m=\u001b[0m \u001b[0mrayon\u001b[0m\u001b[1;33m\u001b[0m\u001b[0m\n",
      "\u001b[1;31mAttributeError\u001b[0m: 'int' object has no attribute 'x'"
     ]
    }
   ],
   "source": [
    "import matplotlib.patches as patches\n",
    "class Cercle(patches.Circle):\n",
    "    def __init__(self, centre, rayon, **kwargs):\n",
    "        patches.Circle.__init__(self, (centre.x,centre.y), rayon, **kwargs)\n",
    "        self.centre = centre\n",
    "        self.rayon = rayon\n",
    "        \n",
    "    def collision(self, cercle):\n",
    "         if self.rayon == 0:\n",
    "                return True\n",
    "            \n",
    "C = Cercle(0,2)\n",
    "C.init()\n",
    "print(C)"
   ]
  },
  {
   "cell_type": "markdown",
   "metadata": {},
   "source": [
    "* Avec cette classe `Cercle`, affichez 2 cercles dans le code ci-dessous en plus du cercle bleu :\n",
    "  - un cercle en vert qui n'est pas en collision avec le cercle bleu,\n",
    "  - un cercle en rouge qui est en collision avec le cercle bleu."
   ]
  },
  {
   "cell_type": "code",
   "execution_count": 13,
   "metadata": {},
   "outputs": [
    {
     "ename": "TypeError",
     "evalue": "object() takes no parameters",
     "output_type": "error",
     "traceback": [
      "\u001b[1;31m---------------------------------------------------------------------------\u001b[0m",
      "\u001b[1;31mTypeError\u001b[0m                                 Traceback (most recent call last)",
      "\u001b[1;32m<ipython-input-13-b5f6b1b2afd0>\u001b[0m in \u001b[0;36m<module>\u001b[1;34m()\u001b[0m\n\u001b[0;32m     10\u001b[0m \u001b[1;33m\u001b[0m\u001b[0m\n\u001b[0;32m     11\u001b[0m cercles = [\n\u001b[1;32m---> 12\u001b[1;33m     \u001b[0mCercle\u001b[0m\u001b[1;33m(\u001b[0m\u001b[0mPoint\u001b[0m\u001b[1;33m(\u001b[0m\u001b[1;36m3\u001b[0m\u001b[1;33m,\u001b[0m \u001b[1;36m3\u001b[0m\u001b[1;33m)\u001b[0m\u001b[1;33m,\u001b[0m \u001b[1;36m3\u001b[0m\u001b[1;33m,\u001b[0m \u001b[0mcolor\u001b[0m\u001b[1;33m=\u001b[0m\u001b[1;34m\"blue\"\u001b[0m\u001b[1;33m)\u001b[0m\u001b[1;33m\u001b[0m\u001b[0m\n\u001b[0m\u001b[0;32m     13\u001b[0m     \u001b[1;31m# ajoutez d'autres cercles ici !\u001b[0m\u001b[1;33m\u001b[0m\u001b[1;33m\u001b[0m\u001b[0m\n\u001b[0;32m     14\u001b[0m ]\n",
      "\u001b[1;31mTypeError\u001b[0m: object() takes no parameters"
     ]
    },
    {
     "data": {
      "image/png": "[encoded data removed]",
      "text/plain": [
       "<matplotlib.figure.Figure at 0x7fe48d5f2d30>"
      ]
     },
     "metadata": {},
     "output_type": "display_data"
    }
   ],
   "source": [
    "%matplotlib inline\n",
    "import matplotlib.pyplot as plt\n",
    "import matplotlib.patches as p\n",
    "\n",
    "fig = plt.figure()\n",
    "\n",
    "ax = fig.add_subplot(111, aspect='equal')\n",
    "ax.set_xlim([0,10])\n",
    "ax.set_ylim([0,10])\n",
    "\n",
    "cercles = [\n",
    "    Cercle(Point(3, 3), 3, color=\"blue\")\n",
    "    # ajoutez d'autres cercles ici !\n",
    "]\n",
    "\n",
    "for c in cercles:\n",
    "    ax.add_patch(c)"
   ]
  },
  {
   "cell_type": "markdown",
   "metadata": {},
   "source": [
    "### Collisions entre cercles\n",
    "\n",
    "* Rajoutez dans la classe `Cercle` une fonction qui indique si un cercle est en collision avec un autre (souvenez-vous que vous avez déjà programmé le calcul de la distance entre deux objets `Point` !).\n",
    "\n",
    "  Testez la fonction avec les 3 cercles de la question précédente."
   ]
  },
  {
   "cell_type": "code",
   "execution_count": 12,
   "metadata": {},
   "outputs": [
    {
     "ename": "NameError",
     "evalue": "name 'cercles' is not defined",
     "output_type": "error",
     "traceback": [
      "\u001b[1;31m---------------------------------------------------------------------------\u001b[0m",
      "\u001b[1;31mNameError\u001b[0m                                 Traceback (most recent call last)",
      "\u001b[1;32m<ipython-input-12-668d9c2d3bc5>\u001b[0m in \u001b[0;36m<module>\u001b[1;34m()\u001b[0m\n\u001b[1;32m----> 1\u001b[1;33m \u001b[1;32massert\u001b[0m\u001b[1;33m(\u001b[0m\u001b[0mcercles\u001b[0m\u001b[1;33m[\u001b[0m\u001b[1;36m0\u001b[0m\u001b[1;33m]\u001b[0m\u001b[1;33m.\u001b[0m\u001b[0mcollision\u001b[0m\u001b[1;33m(\u001b[0m\u001b[0mcercles\u001b[0m\u001b[1;33m[\u001b[0m\u001b[1;36m1\u001b[0m\u001b[1;33m]\u001b[0m\u001b[1;33m)\u001b[0m\u001b[1;33m)\u001b[0m \u001b[1;33m==\u001b[0m \u001b[1;32mFalse\u001b[0m\u001b[1;33m\u001b[0m\u001b[0m\n\u001b[0m\u001b[0;32m      2\u001b[0m \u001b[1;32massert\u001b[0m\u001b[1;33m(\u001b[0m\u001b[0mcercles\u001b[0m\u001b[1;33m[\u001b[0m\u001b[1;36m0\u001b[0m\u001b[1;33m]\u001b[0m\u001b[1;33m.\u001b[0m\u001b[0mcollision\u001b[0m\u001b[1;33m(\u001b[0m\u001b[0mcercles\u001b[0m\u001b[1;33m[\u001b[0m\u001b[1;36m2\u001b[0m\u001b[1;33m]\u001b[0m\u001b[1;33m)\u001b[0m\u001b[1;33m)\u001b[0m\u001b[1;33m==\u001b[0m \u001b[1;32mTrue\u001b[0m\u001b[1;33m\u001b[0m\u001b[0m\n",
      "\u001b[1;31mNameError\u001b[0m: name 'cercles' is not defined"
     ]
    }
   ],
   "source": [
    "assert(cercles[0].collision(cercles[1])) == False\n",
    "assert(cercles[0].collision(cercles[2]))== True"
   ]
  },
  {
   "cell_type": "markdown",
   "metadata": {},
   "source": [
    "### Affichage : rectangles\n",
    "\n",
    "On va cette fois-ci afficher un rectangle. Un rectangle est défini par un `Point` (sommet haut-gauche), une largeur et une hauteur. \n",
    "\n",
    "On vous fournit le code suivant. Comme précédemment, la compréhension détaillée de la méthode `__init__` n'est pas exigée."
   ]
  },
  {
   "cell_type": "code",
   "execution_count": null,
   "metadata": {},
   "outputs": [],
   "source": [
    "import matplotlib.patches as patches\n",
    "class Rectangle(patches.Rectangle):\n",
    "    def __init__(self, coin, largeur, hauteur, **kwargs):\n",
    "        patches.Rectangle.__init__(self, (coin.x, coin.y), largeur, hauteur, **kwargs)\n",
    "        self.coin = coin\n",
    "        self.largeur = largeur\n",
    "        self.hauteur = hauteur\n",
    "        \n",
    "    def collision(self, rect):\n",
    "        \"\"\" À compléter plus tard.\"\"\""
   ]
  },
  {
   "cell_type": "markdown",
   "metadata": {},
   "source": [
    "* Comme précédemment, affichez 2 autres rectangles :\n",
    "  - un vert n'étant pas en collision avec le rectangle bleu,\n",
    "  - un rouge en collision avec le rectangle bleu."
   ]
  },
  {
   "cell_type": "code",
   "execution_count": null,
   "metadata": {},
   "outputs": [],
   "source": [
    "fig = plt.figure()\n",
    "\n",
    "ax = fig.add_subplot(111, aspect='equal')\n",
    "ax.set_xlim([0,10])\n",
    "ax.set_ylim([0,10])\n",
    "\n",
    "rects = [\n",
    "    Rectangle(Point(3, 1), 5, 2, color=\"blue\")\n",
    "]\n",
    "\n",
    "for r in rects:\n",
    "    ax.add_patch(r)"
   ]
  },
  {
   "cell_type": "markdown",
   "metadata": {},
   "source": [
    "* Ajoutez une méthode `collision` à la classe `Rectangle` qui renvoie `True` si le rectangle considéré est en collision avec le second `Rectangle`. Cette fois-ci, vous n'avez pas besoin d'utiliser la méthode donnant la distance entre deux objets `Point`."
   ]
  },
  {
   "cell_type": "code",
   "execution_count": null,
   "metadata": {},
   "outputs": [],
   "source": [
    "assert(rects[0].collision(rects[1])) == False\n",
    "assert(rects[0].collision(rects[2]))== True"
   ]
  },
  {
   "cell_type": "markdown",
   "metadata": {},
   "source": [
    "## En guise de conclusion\n",
    "\n",
    "Vous avez vu une première approche pour détecter des collions : entre 2 cercles, entre 2 rectangles. Cependant, dans la plupart des jeux vidéos, on ne manipule pas des rectangles ou des cercles mais des personnages complexes. \n",
    "\n",
    "À votre avis, comment peut-on réutiliser les résultats du TP pour savoir si un personnage rentre dans un obstacle ?"
   ]
  }
 ],
 "metadata": {
  "kernelspec": {
   "display_name": "Python 3",
   "language": "python",
   "name": "python3"
  },
  "language_info": {
   "codemirror_mode": {
    "name": "ipython",
    "version": 3
   },
   "file_extension": ".py",
   "mimetype": "text/x-python",
   "name": "python",
   "nbconvert_exporter": "python",
   "pygments_lexer": "ipython3",
   "version": "3.7.3"
  }
 },
 "nbformat": 4,
 "nbformat_minor": 1
}
