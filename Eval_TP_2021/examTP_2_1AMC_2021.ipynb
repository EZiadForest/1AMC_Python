{
 "cells": [
  {
   "cell_type": "markdown",
   "metadata": {},
   "source": [
    "![](fig/logoENSI.png)\n",
    "# Nom:                                      \n",
    "# Prénom:"
   ]
  },
  {
   "cell_type": "markdown",
   "metadata": {},
   "source": [
    "# <center>Introduction à la Programmation</center>\n",
    "## <center>Evaluation TP d'initiation à l'informatique</center> \n",
    "###  -Python-  1h45\n",
    "***\n",
    "**ENSICAEN  1A MC** \n",
    "décembre 2021\n",
    "####  E. Ziad-Forest \n",
    "Mailto:ziad@ensicaen.fr  "
   ]
  },
  {
   "cell_type": "markdown",
   "metadata": {},
   "source": [
    "ENSICAEN, 6 boulevard Maréchal Juin – CS45053 – 14050 Caen Cedex 4, Tél. : +33 (0)2 31 45 27 50  \n",
    "© Ce document est la propriété de l’ENSICAEN, il ne peut être ni communiqué, ni reproduit sans son autorisation."
   ]
  },
  {
   "cell_type": "markdown",
   "metadata": {},
   "source": [
    "> **Remarque :**\n",
    "- Tous les documents sont autorisés (papiers, vos programmes de TP, web ...)\n",
    "- Une attention particulière sera porté à la qualité des commentaires et justifications fournies."
   ]
  },
  {
   "cell_type": "markdown",
   "metadata": {},
   "source": [
    "**Pour rappel :**"
   ]
  },
  {
   "cell_type": "code",
   "execution_count": null,
   "metadata": {},
   "outputs": [],
   "source": [
    "# Ceci est un commentaire où une justification dans une cellule de code ..."
   ]
  },
  {
   "cell_type": "markdown",
   "metadata": {},
   "source": [
    "> * La table ci-dessous des questions, vous permettra de vous déplacer facilement de le document.\\\n",
    "* Vous y retrouverez les fonctions et procédures ainsi que les dictionnaires utilisez.\n",
    "* Vous pourrez rapidement y revenir en cliquant sur de nombreux liens <A HREF=\"#sommaire\">Sommaire</A>.\n",
    "* Un fichier de données sera utilisé et sera situé à la racine du projet.\n",
    "    * molecule.txt\n"
   ]
  },
  {
   "cell_type": "markdown",
   "metadata": {},
   "source": [
    "### Table des questions <a class=\"anchor\" id=\"sommaire\"></a>\n",
    "\n",
    "* [I/ Introduction](#chapter1)\n",
    "    * [Question 1](#section_1_1) *`Strychnine`*\n",
    "    * [Question 2](#section_1_2) *`list_char()`*, *`L_char`*\n",
    "* [II/ Liaisons](#chapter2)\n",
    "    * [Question 3](#section_2_1)\n",
    "    * [Question 4](#section_2_2)  *`LiaisonSimple()`*\n",
    "    * [Question 5](#section_2_3)\n",
    "    * [Question 6](#section_2_4) *`trouve_liaison_simple()`*\n",
    "* [III/ Slicing](#chapter3)\n",
    "    * [Question 7](#section_3_1) \n",
    "* [IV/ Lecture dans des fichiers](#chapter4)\n",
    "    * [Question 8](#section_4_1) *`lire_seq()`*\n",
    "    * [Question 9](#section_4_2)\n",
    "* [V/ Construction d'un dictionnaires à partir d'une liste](#chapter5)\n",
    "    * [Question 10](#section_5_1)\n",
    "    * [Question 11](#section_5_2)\n",
    "    * [Question 12](#section_5_2)\n",
    "* [VI/ Recherche d'un motif dans une chaine](#chapter6)\n",
    "    * [Question 13](#section_6_1) *`motif`*\n",
    "    * [Question 14](#section_6_2)\n",
    "* [VII/ Ecriture dans des fichiers](#chapter7)\n",
    "    * [Question 15](#section_7_1) \n",
    "    * [Question 16](#section_7_2) \n",
    "   "
   ]
  },
  {
   "cell_type": "markdown",
   "metadata": {},
   "source": [
    "# La notation SMILES"
   ]
  },
  {
   "cell_type": "markdown",
   "metadata": {},
   "source": [
    "SMILES  (Simplified  Molecular  Input  Line  Entry  Specification)  est  un  langage  de  description  des\n",
    "molécules sous la forme de chaînes de caractères. Ces chaînes peuvent alors être stockées de manière\n",
    "optimale dans des bases de données puis utilisées à des fins d'analyse. De nombreux éditeurs de\n",
    "molécules permettent de générer la structure bi- ou tri-dimensionnelle de la molécule à partir de sa\n",
    "chaîne SMILES. [Wikipedia SMILES](https://fr.wikipedia.org/wiki/Simplified_Molecular_Input_Line_Entry_Specification)"
   ]
  },
  {
   "cell_type": "markdown",
   "metadata": {},
   "source": [
    "Le but du travail demander est d'utiliser la notation SMILES, ainsi que le tableau périodique des éléments de Mendeleïev ([Wikipedia Table de Mendeleïev](https://fr.wikipedia.org/wiki/Tableau_p%C3%A9riodique_des_%C3%A9l%C3%A9ments))"
   ]
  },
  {
   "cell_type": "markdown",
   "metadata": {},
   "source": [
    "# I/ Introduction <a class=\"anchor\" id=\"chapter1\"></a>\n"
   ]
  },
  {
   "cell_type": "markdown",
   "metadata": {},
   "source": [
    "> **Remarques** Portez une attention toute particulière aux instructions et fonctions de cette partie (que vous pourrez réutilise), car la suite du sujet s'appuira fréquemment sur les réponses à ces questions."
   ]
  },
  {
   "cell_type": "code",
   "execution_count": null,
   "metadata": {},
   "outputs": [],
   "source": [
    "# Soient les variables :\n",
    "Strychnine='O=C1C[C@H]2OCC=C3CN4CC[C@@]56[C@H]4C[C@H]3[C@H]2[C@H]6N1c7ccccc75'\n",
    "Quinine='COc1ccc2nccc([C@@H](O)[C@H]3C[C@@H]4CCN3C[C@@H]4C=C)c2c1'\n",
    "type(Strychnine)"
   ]
  },
  {
   "cell_type": "markdown",
   "metadata": {},
   "source": [
    "### Question 1 <a class=\"anchor\" id=\"section_1_1\"></a>\n",
    "Compter le nombre d'occurences d'atome de carbone (le nombre de lettres C !) dans la formule moleculaire de la variable `Strychnine`"
   ]
  },
  {
   "cell_type": "code",
   "execution_count": null,
   "metadata": {},
   "outputs": [],
   "source": [
    "# Complétez l'instruction suivante\n",
    "nb_C=0\n",
    "for elt in Strychnine:\n",
    "    "
   ]
  },
  {
   "cell_type": "markdown",
   "metadata": {},
   "source": [
    "### Question 2 <a class=\"anchor\" id=\"section_1_2\"></a>\n",
    "Ecrire une fonction `list_char()` qui prend en paramètre une chaine de caractères et renvoie une liste `L_char` de tous les caractères distincts de cette chaine."
   ]
  },
  {
   "cell_type": "code",
   "execution_count": null,
   "metadata": {},
   "outputs": [],
   "source": []
  },
  {
   "cell_type": "code",
   "execution_count": null,
   "metadata": {},
   "outputs": [],
   "source": [
    "# test\n",
    "print(list_char(Strychnine))"
   ]
  },
  {
   "cell_type": "code",
   "execution_count": null,
   "metadata": {},
   "outputs": [],
   "source": [
    "# test\n",
    "print(list_char(Quinine))"
   ]
  },
  {
   "cell_type": "markdown",
   "metadata": {},
   "source": [
    "<div align=\"right\"><A HREF=\"#sommaire\">Sommaire</A></div>."
   ]
  },
  {
   "cell_type": "markdown",
   "metadata": {},
   "source": [
    "# II/ Liaisons  <a class=\"anchor\" id=\"chapter2\"></a>\n",
    "- La liaison simple est implicite et n'est pas représentée (elle est facultative, afin de ne pas surcharger la séquence). \\\n",
    "    - CC représente donc l'éthane et CCC, le propane. \n",
    "- La double liaison est représentée par le symbole \"=\" \n",
    "- La triple liaison par le symbole \"#\". \n",
    "    - L'éthylène est donc C=C, et le cyanure d'hydrogène, C#N. "
   ]
  },
  {
   "cell_type": "markdown",
   "metadata": {},
   "source": [
    "### Question 3 <a class=\"anchor\" id=\"section_2_1\"></a>\n",
    "Ecrire les instructions qui lisent la chaine `ch`=`BONJOUR`, imprime deux lettres à la fois pour chaque lettre de la chaine `BONJOUR`, de tel sorte que chaque lettre de `BONJOUR` soit l'initiale d'un couple de lettre, avant de passer à la ligne.\\\n",
    "Ainsi, la trace d'execution devrait être :\n",
    "``` console\n",
    "BO\n",
    "ON\n",
    "NJ\n",
    "JO\n",
    "OU\n",
    "UR\n",
    "R\n",
    "``` "
   ]
  },
  {
   "cell_type": "code",
   "execution_count": null,
   "metadata": {},
   "outputs": [],
   "source": []
  },
  {
   "cell_type": "markdown",
   "metadata": {},
   "source": [
    "### Question 4 <a class=\"anchor\" id=\"section_2_2\"></a>\n",
    "En déduire une fonction `LiaisonSimple()` prenant en paramètre une chaine et retournant un tuple de couples de lettres (chaine de caractère), comme dans la question précédente."
   ]
  },
  {
   "cell_type": "code",
   "execution_count": null,
   "metadata": {},
   "outputs": [],
   "source": []
  },
  {
   "cell_type": "code",
   "execution_count": null,
   "metadata": {},
   "outputs": [],
   "source": [
    "# test\n",
    "print(LiaisonSimple(Strychnine))"
   ]
  },
  {
   "cell_type": "markdown",
   "metadata": {},
   "source": [
    "<div align=\"right\"><A HREF=\"#sommaire\">Sommaire</A></div>."
   ]
  },
  {
   "cell_type": "markdown",
   "metadata": {},
   "source": [
    "### Question 5 <a class=\"anchor\" id=\"section_2_3\"></a>\n",
    "Si 2 lettres apartenant au tuple  ('C', 'H', 'N', 'O') sont contigües alors elles sont en liaison simple.\n",
    "Quelles instructions permetraient de voir toutes les liaisons simples dans la molécule Strychnine ?"
   ]
  },
  {
   "cell_type": "code",
   "execution_count": null,
   "metadata": {},
   "outputs": [],
   "source": [
    "# Soit la variable suivante :\n",
    "t_chno=('C', 'H', 'N', 'O')"
   ]
  },
  {
   "cell_type": "code",
   "execution_count": null,
   "metadata": {},
   "outputs": [],
   "source": []
  },
  {
   "cell_type": "markdown",
   "metadata": {},
   "source": [
    "### Question 6 <a class=\"anchor\" id=\"section_2_4\"></a>\n",
    "1/ En déduire une fonction `trouve_liaison_simple()` qui prend en paramètre une molécule et retourne une liste avec toutes les liaisons simples\n",
    "2/ Vérifier avec les molecules `Strychnine` et `Quinine`"
   ]
  },
  {
   "cell_type": "code",
   "execution_count": null,
   "metadata": {},
   "outputs": [],
   "source": []
  },
  {
   "cell_type": "code",
   "execution_count": null,
   "metadata": {},
   "outputs": [],
   "source": []
  },
  {
   "cell_type": "markdown",
   "metadata": {},
   "source": [
    "<div align=\"right\"><A HREF=\"#sommaire\">Sommaire</A></div>."
   ]
  },
  {
   "cell_type": "markdown",
   "metadata": {},
   "source": [
    "# III/ Slicing <a class=\"anchor\" id=\"chapter3\"></a>"
   ]
  },
  {
   "cell_type": "markdown",
   "metadata": {},
   "source": [
    "### Question 7 <a class=\"anchor\" id=\"section_3_1\"></a>\n",
    "1/ Quelle instruction permet de connaitre l'index de `']5'` dans la liste  `LiaisonSimple(Strychnine)`"
   ]
  },
  {
   "cell_type": "code",
   "execution_count": null,
   "metadata": {},
   "outputs": [],
   "source": []
  },
  {
   "cell_type": "markdown",
   "metadata": {},
   "source": [
    "2/Comment obtenir la séquence `[']5', '56', '6[']` dans la liste `LiaisonSimple(Strychnine)` en utilisant le slicing?"
   ]
  },
  {
   "cell_type": "code",
   "execution_count": null,
   "metadata": {},
   "outputs": [],
   "source": [
    "# votre instruction ici\n"
   ]
  },
  {
   "cell_type": "markdown",
   "metadata": {},
   "source": [
    "<div align=\"right\"><A HREF=\"#sommaire\">Sommaire</A></div>."
   ]
  },
  {
   "cell_type": "markdown",
   "metadata": {},
   "source": [
    "# IV/ Lecture dans des fichiers <a class=\"anchor\" id=\"chapter4\"></a>"
   ]
  },
  {
   "cell_type": "markdown",
   "metadata": {},
   "source": [
    "### Question 8 <a class=\"anchor\" id=\"section_4_1\"></a>\n",
    "1/ Corriger la fonction `lire_seq()` qui prend en paramètre le nom d'un fichier, lit ce fichier, et retourne une variable `seq` de type `str`. "
   ]
  },
  {
   "cell_type": "code",
   "execution_count": null,
   "metadata": {},
   "outputs": [],
   "source": [
    "# Corriger le code dans cette cellule\n",
    "def lire_seq(nonFichier)\n",
    "f=open(nonFichier, 'r)\n",
    "seq = f.read()\n",
    "seq = seq.replace('\\n', '']\n",
    "f.close()\n",
    "retour Seq"
   ]
  },
  {
   "cell_type": "markdown",
   "metadata": {},
   "source": [
    "2/ Tester votre fonction `Lire_seq` avec le fichier '`molecule.txt`'"
   ]
  },
  {
   "cell_type": "code",
   "execution_count": null,
   "metadata": {},
   "outputs": [],
   "source": []
  },
  {
   "cell_type": "markdown",
   "metadata": {},
   "source": [
    "### Question 9 <a class=\"anchor\" id=\"section_4_2\"></a>\n",
    "Expliquez ce que font le 3 lignes suivantes."
   ]
  },
  {
   "cell_type": "code",
   "execution_count": null,
   "metadata": {},
   "outputs": [],
   "source": [
    "seq=lire_seq('molecules.txt') #1\n",
    "seq = seq.replace('\\n', '')   #2\n",
    "seq=seq.split(',')            #3"
   ]
  },
  {
   "cell_type": "markdown",
   "metadata": {},
   "source": [
    "***Explications***  \n",
    "Vos commentaires ici\n"
   ]
  },
  {
   "cell_type": "markdown",
   "metadata": {},
   "source": [
    "<div align=\"right\"><A HREF=\"#sommaire\">Sommaire</A></div>."
   ]
  },
  {
   "cell_type": "markdown",
   "metadata": {},
   "source": [
    "# V/ Construction d'un dictionnaires à partir d'une liste <a class=\"anchor\" id=\"chapter5\"></a>"
   ]
  },
  {
   "cell_type": "markdown",
   "metadata": {},
   "source": [
    "### Question 10 <a class=\"anchor\" id=\"section_5_1\"></a>\n",
    "1/ supprimer les 2 premiers éléments de la liste `seq`(pensez au slicing !)"
   ]
  },
  {
   "cell_type": "code",
   "execution_count": null,
   "metadata": {},
   "outputs": [],
   "source": []
  },
  {
   "cell_type": "markdown",
   "metadata": {},
   "source": [
    "### Question 11 <a class=\"anchor\" id=\"section_5_2\"></a>\n",
    "A partir de la liste `seq` construire 2 listes `L_smiles_nom` et `L_smiles`"
   ]
  },
  {
   "cell_type": "code",
   "execution_count": null,
   "metadata": {},
   "outputs": [],
   "source": []
  },
  {
   "cell_type": "code",
   "execution_count": null,
   "metadata": {},
   "outputs": [],
   "source": [
    "print(L_smiles)"
   ]
  },
  {
   "cell_type": "code",
   "execution_count": null,
   "metadata": {},
   "outputs": [],
   "source": [
    "print(L_smiles_nom)"
   ]
  },
  {
   "cell_type": "markdown",
   "metadata": {},
   "source": [
    "### Question 12 <a class=\"anchor\" id=\"section_5_3\"></a>\n",
    "Créer le dictionnaire `d_nom_smile` où chaque élément de la liste `L_smiles_nom` sera la clef et respectivement chaque élément de `L_smiles` en sera la valeur."
   ]
  },
  {
   "cell_type": "code",
   "execution_count": null,
   "metadata": {},
   "outputs": [],
   "source": []
  },
  {
   "cell_type": "markdown",
   "metadata": {},
   "source": [
    "<div align=\"right\"><A HREF=\"#sommaire\">Sommaire</A></div>."
   ]
  },
  {
   "cell_type": "markdown",
   "metadata": {},
   "source": [
    "# VI/ Recherche d'un motif dans une chaine <a class=\"anchor\" id=\"chapter6\"></a>"
   ]
  },
  {
   "cell_type": "markdown",
   "metadata": {},
   "source": [
    "### Question 13<a class=\"anchor\" id=\"section_6_1\"></a>\n",
    "> Nous utiliserons la liste `seq` de la question 9. Et le motif suivant :"
   ]
  },
  {
   "cell_type": "code",
   "execution_count": null,
   "metadata": {},
   "outputs": [],
   "source": [
    " motif='COc1cc(Cc2cnc(N)nc2N)cc(OC)c1OC'"
   ]
  },
  {
   "cell_type": "markdown",
   "metadata": {},
   "source": [
    "Quel est le nom de dans la liste `seq`de la chaine de caractères `motif`? (sample???)"
   ]
  },
  {
   "cell_type": "code",
   "execution_count": null,
   "metadata": {},
   "outputs": [],
   "source": []
  },
  {
   "cell_type": "markdown",
   "metadata": {},
   "source": [
    "<div align=\"right\"><A HREF=\"#sommaire\">Sommaire</A></div>."
   ]
  },
  {
   "cell_type": "markdown",
   "metadata": {},
   "source": [
    "### Question 14 <a class=\"anchor\" id=\"section_6_2\"></a>\n",
    "1/ Quels sont les noms des molécules dans la liste `seq` contenant le SMILES: `C(O)C(O)`?\n",
    "> Vous placerez tous les résultats dans un liste `L_molec_C`"
   ]
  },
  {
   "cell_type": "code",
   "execution_count": null,
   "metadata": {},
   "outputs": [],
   "source": [
    "motif2='C(O)C(O)'"
   ]
  },
  {
   "cell_type": "code",
   "execution_count": null,
   "metadata": {},
   "outputs": [],
   "source": []
  },
  {
   "cell_type": "markdown",
   "metadata": {},
   "source": [
    "2/ Combien y en a-t-il ?"
   ]
  },
  {
   "cell_type": "code",
   "execution_count": null,
   "metadata": {},
   "outputs": [],
   "source": []
  },
  {
   "cell_type": "markdown",
   "metadata": {},
   "source": [
    "<div align=\"right\"><A HREF=\"#sommaire\">Sommaire</A></div>."
   ]
  },
  {
   "cell_type": "markdown",
   "metadata": {},
   "source": [
    "# VII/ Ecriture dans des fichiers <a class=\"anchor\" id=\"chapter7\"></a>"
   ]
  },
  {
   "cell_type": "markdown",
   "metadata": {},
   "source": [
    "### Question 15 <a class=\"anchor\" id=\"section_7_1\"></a>\n",
    "Nous souhaitons, écrire le resultat de la liste `L_molec_C` dans un fichier nommé `molec_C.txt`\n",
    "> Corriger le code ci-dessous afin que ces intructions effectuent le travail demandé.  \n",
    "**Aide** *Pensez à `join` et à `\\n`...*"
   ]
  },
  {
   "cell_type": "code",
   "execution_count": null,
   "metadata": {},
   "outputs": [],
   "source": [
    "f = open('molec_C.txt', 'a') \n",
    "f.write(L_molec_C)\n",
    "f.close()"
   ]
  },
  {
   "cell_type": "code",
   "execution_count": null,
   "metadata": {},
   "outputs": [],
   "source": []
  },
  {
   "cell_type": "markdown",
   "metadata": {},
   "source": [
    "<div align=\"right\"><A HREF=\"#sommaire\">Sommaire</A></div>."
   ]
  },
  {
   "cell_type": "markdown",
   "metadata": {},
   "source": [
    "### Question 16  <a class=\"anchor\" id=\"section_7_2\"></a>\n",
    "1/ Que font les commandes linux suivantes : \n",
    "- cat \n",
    "- less \n",
    "- more\n",
    "> *Dans ipython précéder la commande par* `!` *peut-être important.*"
   ]
  },
  {
   "cell_type": "markdown",
   "metadata": {},
   "source": [
    "2/ Dans la cellule suivante consulter le contenu du fichier `molec_C.txt`"
   ]
  },
  {
   "cell_type": "code",
   "execution_count": null,
   "metadata": {},
   "outputs": [],
   "source": [
    "# votre instruction linux ci-dessous"
   ]
  },
  {
   "cell_type": "markdown",
   "metadata": {},
   "source": [
    "<div align=\"right\"><A HREF=\"#sommaire\">Sommaire</A></div>."
   ]
  }
 ],
 "metadata": {
  "kernelspec": {
   "display_name": "Python 3",
   "language": "python",
   "name": "python3"
  },
  "language_info": {
   "codemirror_mode": {
    "name": "ipython",
    "version": 3
   },
   "file_extension": ".py",
   "mimetype": "text/x-python",
   "name": "python",
   "nbconvert_exporter": "python",
   "pygments_lexer": "ipython3",
   "version": "3.7.3"
  }
 },
 "nbformat": 4,
 "nbformat_minor": 2
}
