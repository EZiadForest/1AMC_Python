{
 "cells": [
  {
   "cell_type": "markdown",
   "metadata": {},
   "source": [
    "![](fig/logoENSI.png)\n",
    " ![](fig/logoPython.png)\n",
    "***"
   ]
  },
  {
   "cell_type": "markdown",
   "metadata": {},
   "source": [
    "# TP3  \n",
    "## Compte-rendu de       (*votre nom & votre groupe*)"
   ]
  },
  {
   "cell_type": "markdown",
   "metadata": {},
   "source": [
    "# Chaînes de caractères, listes, tuples\n",
    "\n",
    "# Structures conditionelles et de boucles\n",
    "***"
   ]
  },
  {
   "cell_type": "markdown",
   "metadata": {},
   "source": [
    "**ENSICAEN  1A MC** \n",
    " 2020-2021\n",
    "\n",
    "## Eric Ziad-Forest\n",
    "***"
   ]
  },
  {
   "cell_type": "markdown",
   "metadata": {},
   "source": [
    "### Enseignants des groupes de TD/TP\n",
    "- Groupe 1: Philippe Lefebvre [lefebvre@ensicaen.fr]\n",
    "- Groupe 2: Eric Ziad-Forest [ziad@ensicaen.fr]\n",
    "- Groupe 3: Christine Porquet [chris@ensicaen.fr]\n",
    "- Groupe 4: Patrick Ducrot [patrick.ducrot@ensicaen.fr]\n",
    "***"
   ]
  },
  {
   "cell_type": "markdown",
   "metadata": {},
   "source": [
    "**Auteurs :**\n",
    "- Fabrice Dumont (*Institut Cardinal Mercier de Schaerbeek*) pour la partie I.\n",
    "- Eric Ziad-Forest (mailto: ziad@ensicaen.fr))\n",
    "***\n",
    "*Contenu sous licence [CC BY-SA 4.0](https://creativecommons.org/licenses/by-sa/4.0)*"
   ]
  },
  {
   "cell_type": "markdown",
   "metadata": {},
   "source": [
    "# Objectifs\n",
    " \n",
    "- Utilisation raisonnée de l'interpréteur *Python*\n",
    "- Conversions de types\n",
    "- Savoir utiliser les principales méthodes sur les listes, tuples et chaînes de caractères."
   ]
  },
  {
   "cell_type": "markdown",
   "metadata": {},
   "source": [
    "# Rendu\n",
    "\n",
    ">**Vous allez au cours de ce TP, compléter ce document qui servira de compte-rendu en fin de séance et sera déposé sur la plateforme Moodle.**  \n",
    "N'oubliez pas d'inscrire votre nom et prénom  à côté de compte-rendu, juste en dessous de TP3.\n",
    "\n",
    "# Liens pour toutes questions sur Python\n",
    "https://docs.python.org/fr/3.6/\n",
    "\n",
    "# Visualiser les executions de l'interpréteur\n",
    "https://pythontutor.com/visualize.html#mode=edit"
   ]
  },
  {
   "cell_type": "markdown",
   "metadata": {},
   "source": [
    "PARTIE I\n",
    "========="
   ]
  },
  {
   "cell_type": "markdown",
   "metadata": {},
   "source": [
    "# Mise en bouche..."
   ]
  },
  {
   "cell_type": "markdown",
   "metadata": {
    "collapsed": true
   },
   "source": [
    "### Rappel : Les méthodes de la classe str\n",
    "\n",
    "**Evaluer les cellules suivantes**"
   ]
  },
  {
   "cell_type": "code",
   "execution_count": null,
   "metadata": {},
   "outputs": [],
   "source": [
    "help (\"str\")"
   ]
  },
  {
   "cell_type": "code",
   "execution_count": null,
   "metadata": {},
   "outputs": [],
   "source": [
    "ma_chaine = \"BONJOUR\"\n",
    "print (ma_chaine)"
   ]
  },
  {
   "cell_type": "markdown",
   "metadata": {},
   "source": [
    "**En commentaire dans la cellule *(# commentaire)* écrire ce que font les méthodes suivantes:**"
   ]
  },
  {
   "cell_type": "code",
   "execution_count": null,
   "metadata": {},
   "outputs": [],
   "source": [
    "ma_chaine.lower ()"
   ]
  },
  {
   "cell_type": "code",
   "execution_count": null,
   "metadata": {},
   "outputs": [],
   "source": [
    "ma_chaine_2 = \"bonjour\"\n",
    "print (ma_chaine_2)"
   ]
  },
  {
   "cell_type": "code",
   "execution_count": null,
   "metadata": {},
   "outputs": [],
   "source": [
    "ma_chaine_2.upper ()"
   ]
  },
  {
   "cell_type": "code",
   "execution_count": null,
   "metadata": {},
   "outputs": [],
   "source": [
    "ma_chaine_2.capitalize ()"
   ]
  },
  {
   "cell_type": "code",
   "execution_count": null,
   "metadata": {},
   "outputs": [],
   "source": [
    "ma_chaine_3 = \"   Bonjour   \"\n",
    "print (ma_chaine_3)"
   ]
  },
  {
   "cell_type": "code",
   "execution_count": null,
   "metadata": {},
   "outputs": [],
   "source": [
    "ma_chaine_3.strip ()"
   ]
  },
  {
   "cell_type": "code",
   "execution_count": null,
   "metadata": {},
   "outputs": [],
   "source": [
    "ma_chaine_3.strip ().center (40)"
   ]
  },
  {
   "cell_type": "markdown",
   "metadata": {},
   "source": [
    "### Formater une chaîne"
   ]
  },
  {
   "cell_type": "code",
   "execution_count": null,
   "metadata": {},
   "outputs": [],
   "source": [
    "langage = \"Python\"\n",
    "prenom = \"Guido\"\n",
    "nom = \"Van Rossum\"\n",
    "print (\"{} est un langage de programmation {}\".format(langage,\"multi-paradigme\"))\n",
    "print (\"Dixit : {} {}\".format(prenom,nom))"
   ]
  },
  {
   "cell_type": "code",
   "execution_count": null,
   "metadata": {},
   "outputs": [],
   "source": [
    "print (\"{1} {2} {0}\".format(langage,prenom,nom))"
   ]
  },
  {
   "cell_type": "code",
   "execution_count": null,
   "metadata": {},
   "outputs": [],
   "source": [
    "print (\"{2} {1} {0}\".format(langage,prenom,nom.upper()))"
   ]
  },
  {
   "cell_type": "code",
   "execution_count": null,
   "metadata": {},
   "outputs": [],
   "source": [
    "cours = \"TP 1A MC\"\n",
    "prenom = \"Eric\"\n",
    "nom = \"Ziad-Forest\""
   ]
  },
  {
   "cell_type": "code",
   "execution_count": null,
   "metadata": {},
   "outputs": [],
   "source": [
    "print (\"{2} {3} {1} {0}\".format(langage,cours,prenom,nom.upper()))"
   ]
  },
  {
   "cell_type": "markdown",
   "metadata": {},
   "source": [
    "***\n",
    "**Après avoir évalué les instructions proposées, vous êtes armés(es) pour répondre aux exercices suivants.**"
   ]
  },
  {
   "cell_type": "markdown",
   "metadata": {},
   "source": [
    "## Les chaînes de caractères"
   ]
  },
  {
   "cell_type": "code",
   "execution_count": null,
   "metadata": {},
   "outputs": [],
   "source": [
    "# Notre chaine de caractères pour cette partie\n",
    "une_chaine = \"Joyeux Anniversaire\""
   ]
  },
  {
   "cell_type": "markdown",
   "metadata": {},
   "source": [
    "### Quel est le type de la variable  *une_chaine*?"
   ]
  },
  {
   "cell_type": "code",
   "execution_count": null,
   "metadata": {},
   "outputs": [],
   "source": [
    "# Votre instruction ici pour vérifier\n"
   ]
  },
  {
   "cell_type": "markdown",
   "metadata": {},
   "source": [
    "### Quelle est la longueur de cette chaîne de caractères ?"
   ]
  },
  {
   "cell_type": "code",
   "execution_count": null,
   "metadata": {},
   "outputs": [],
   "source": [
    "# Votre instruction Python ici\n"
   ]
  },
  {
   "cell_type": "markdown",
   "metadata": {},
   "source": [
    "J|o|y|e|u|x| |A|n|n|i|v|e|r|s|a|i|r|e \n",
    "-|-|-|-|-|-|-|-|-|-|-|-|-|-|-|-|-|-|-\n",
    "1|2|3|4|5|6|7|8|9|10|11|12|13|14|15|16|17|18|19"
   ]
  },
  {
   "cell_type": "markdown",
   "metadata": {},
   "source": [
    "### Rappels sur les indices dans une chaîne de caractères"
   ]
  },
  {
   "cell_type": "markdown",
   "metadata": {},
   "source": [
    "#### Evaluez rapidement les instructions suivantes:"
   ]
  },
  {
   "cell_type": "code",
   "execution_count": null,
   "metadata": {},
   "outputs": [],
   "source": [
    "une_chaine[0]"
   ]
  },
  {
   "cell_type": "code",
   "execution_count": null,
   "metadata": {},
   "outputs": [],
   "source": [
    "une_chaine[7]"
   ]
  },
  {
   "cell_type": "markdown",
   "metadata": {},
   "source": [
    "J|o|y|e|u|x| |A|n|n|i|v|e|r|s|a|i|r|e \n",
    "-|-|-|-|-|-|-|-|-|-|-|-|-|-|-|-|-|-|-\n",
    "0|1|2|3|4|5|6|7|8|9|10|11|12|13|14|15|16|17|18\n",
    "-19|-18|-17|-16|-15|-14|-13|-12|-11|-10|-9|-8|-7|-6|-5|-4|-3|-2|-1"
   ]
  },
  {
   "cell_type": "markdown",
   "metadata": {},
   "source": [
    "<p style=\"text-align:center\";><b>Très souvent en programamtion, on commence à compter à partir de ZERO !!!!!!!</b></p>"
   ]
  },
  {
   "cell_type": "code",
   "execution_count": null,
   "metadata": {},
   "outputs": [],
   "source": [
    "une_chaine.index(\"J\") # donne l'indice du premier J (majuscule) rencontré dans la chaîne"
   ]
  },
  {
   "cell_type": "code",
   "execution_count": null,
   "metadata": {},
   "outputs": [],
   "source": [
    "une_chaine.index(\"e\") # donne l'indice du premier e (minuscule) rencontré dans la chaîne"
   ]
  },
  {
   "cell_type": "code",
   "execution_count": null,
   "metadata": {},
   "outputs": [],
   "source": [
    "une_chaine[-1] # la première valeur en commençant par la fin"
   ]
  },
  {
   "cell_type": "code",
   "execution_count": null,
   "metadata": {},
   "outputs": [],
   "source": [
    "une_chaine[-19] # == une_chaine[1]"
   ]
  },
  {
   "cell_type": "code",
   "execution_count": null,
   "metadata": {},
   "outputs": [],
   "source": [
    "une_chaine [-len(une_chaine)] # Vous avez compris ?"
   ]
  },
  {
   "cell_type": "markdown",
   "metadata": {},
   "source": [
    "#### Slicing"
   ]
  },
  {
   "cell_type": "code",
   "execution_count": null,
   "metadata": {},
   "outputs": [],
   "source": [
    "une_chaine [1:5] # de l'indice 1 inclus à l'indice 5 exclus"
   ]
  },
  {
   "cell_type": "code",
   "execution_count": null,
   "metadata": {},
   "outputs": [],
   "source": [
    "une_chaine [2:] # de l'indice 2 inclus jusqu'à la fin"
   ]
  },
  {
   "cell_type": "code",
   "execution_count": null,
   "metadata": {},
   "outputs": [],
   "source": [
    "une_chaine [:-1] # du début à l'indice -1 exclus"
   ]
  },
  {
   "cell_type": "code",
   "execution_count": null,
   "metadata": {},
   "outputs": [],
   "source": [
    "une_chaine [::-1] # en partant de la fin et à l'envers vers le début"
   ]
  },
  {
   "cell_type": "code",
   "execution_count": null,
   "metadata": {},
   "outputs": [],
   "source": [
    "une_chaine [::2] # afficher tout par pas de 2"
   ]
  },
  {
   "cell_type": "markdown",
   "metadata": {},
   "source": [
    "### Les indices en pratique avec une boucle while"
   ]
  },
  {
   "cell_type": "markdown",
   "metadata": {},
   "source": [
    "> **Exercice**   \n",
    "Comment obtenir une impression à l'écran comme ci-dessous avec   \n",
    "*une_chaine = \"Joyeux Anniversaire\"*    \n",
    "en utilisant une boucle while:    \n",
    ">> A l'indice 0 se trouve la lettre  J  \n",
    ">> A l'indice 1 se trouve la lettre  o  \n",
    "A l'indice 2 se trouve la lettre  y  \n",
    "A l'indice 3 se trouve la lettre  e  \n",
    "A l'indice 4 se trouve la lettre  u  \n",
    "A l'indice 5 se trouve la lettre  x  \n",
    "A l'indice 6 se trouve la lettre   \n",
    "A l'indice 7 se trouve la lettre  A  \n",
    "A l'indice 8 se trouve la lettre  n  \n",
    "A l'indice 9 se trouve la lettre  n  \n",
    "A l'indice 10 se trouve la lettre  i  \n",
    "A l'indice 11 se trouve la lettre  v  \n",
    "A l'indice 12 se trouve la lettre  e  \n",
    "A l'indice 13 se trouve la lettre  r  \n",
    "A l'indice 14 se trouve la lettre  s  \n",
    "A l'indice 15 se trouve la lettre  a  \n",
    "A l'indice 16 se trouve la lettre  i   \n",
    "A l'indice 17 se trouve la lettre  r  \n",
    "A l'indice 18 se trouve la lettre  e  "
   ]
  },
  {
   "cell_type": "code",
   "execution_count": null,
   "metadata": {},
   "outputs": [],
   "source": [
    "# Vos instructions Python ici\n"
   ]
  },
  {
   "cell_type": "markdown",
   "metadata": {},
   "source": [
    "### Parcours de chaîne avec la boucle for  "
   ]
  },
  {
   "cell_type": "markdown",
   "metadata": {},
   "source": [
    "> **Exercice**   \n",
    "Même exercice que précédemment, mais en utilisant une boucle *for*.   \n",
    "*une_chaine = \"Joyeux Anniversaire\"*    "
   ]
  },
  {
   "cell_type": "code",
   "execution_count": null,
   "metadata": {},
   "outputs": [],
   "source": [
    "# Vos instructions Python ici\n"
   ]
  },
  {
   "cell_type": "markdown",
   "metadata": {},
   "source": [
    "### Script permettant de distinguer les voyelles, les consonnes et les espaces"
   ]
  },
  {
   "cell_type": "markdown",
   "metadata": {},
   "source": [
    "> **Exercice**   \n",
    "Comment obtenir l'impression à l'écran comme ci-dessous avec   \n",
    "*une_chaine = \"Joyeux Anniversaire\"* \n",
    "-    on pourra utiliser *Voyelles = \"aeiouyAEIOUY\"*\n",
    "-    les structures conditionnelles : *if elif else*:    \n",
    ">>    J est une consonne  \n",
    ">>    o est une voyelle  \n",
    "y est une voyelle  \n",
    "e est une voyelle  \n",
    "u est une voyelle  \n",
    "x est une consonne  \n",
    "  est un espace  \n",
    "A est une voyelle  \n",
    "n est une consonne  \n",
    "n est une consonne  \n",
    "i est une voyelle  \n",
    "v est une consonne  \n",
    "e est une voyelle  \n",
    "r est une consonne  \n",
    "s est une consonne  \n",
    "a est une voyelle  \n",
    "i est une voyelle  \n",
    "r est une consonne  \n",
    "e est une voyelle  "
   ]
  },
  {
   "cell_type": "code",
   "execution_count": null,
   "metadata": {},
   "outputs": [],
   "source": [
    "# Vos instructions Python ici\n"
   ]
  },
  {
   "cell_type": "markdown",
   "metadata": {},
   "source": [
    "### Script permettant de compter les voyelles, les consonnes et les espaces"
   ]
  },
  {
   "cell_type": "markdown",
   "metadata": {},
   "source": [
    "> **Exercice**  \n",
    "> De la même manière que dans les exercices précédents écrire les instructions qui permettront de compter les voyelles, les consonnes et les espaces.\n",
    ">> J est une consonne  \n",
    "o est une voyelle  \n",
    "y est une voyelle  \n",
    "e est une voyelle  \n",
    "u est une voyelle  \n",
    "x est une consonne  \n",
    "  est un espace  \n",
    "A est une voyelle  \n",
    "n est une consonne  \n",
    "n est une consonne  \n",
    "i est une voyelle   \n",
    "v est une consonne  \n",
    "e est une voyelle  \n",
    "r est une consonne  \n",
    "s est une consonne  \n",
    "a est une voyelle  \n",
    "i est une voyelle  \n",
    "r est une consonne  \n",
    "e est une voyelle  \n",
    "Il y a, dans cette phrase, 10 voyelle(s), 8 consonne(s), 1 espace(s)  "
   ]
  },
  {
   "cell_type": "markdown",
   "metadata": {
    "collapsed": true
   },
   "source": [
    "***\n",
    "\n",
    "## Une chaîne de caractères est immutable (non modifiable) !!!!"
   ]
  },
  {
   "cell_type": "markdown",
   "metadata": {},
   "source": [
    "Nous allons néanmoins changer \"chien\" en \"Chine\" par permutation de 2 lettres."
   ]
  },
  {
   "cell_type": "code",
   "execution_count": null,
   "metadata": {},
   "outputs": [],
   "source": [
    "une_chaine='chien' "
   ]
  },
  {
   "cell_type": "markdown",
   "metadata": {},
   "source": [
    "> **Exercice**   \n",
    "Permuter les lettres *e* et *n* de *chien* afin que *une_chaine* reste de type `str`et quelle prenne la valeur *Chine*."
   ]
  },
  {
   "cell_type": "code",
   "execution_count": null,
   "metadata": {},
   "outputs": [],
   "source": [
    "# Remarque\n",
    "une_chaine[0] = \"C\" \n",
    "# ne fonctionne évidemment pas, les chaînes de caractères et \n",
    "# les tuples sont des types immutables ! "
   ]
  },
  {
   "cell_type": "code",
   "execution_count": null,
   "metadata": {},
   "outputs": [],
   "source": [
    "# Vos instructions Python ici\n"
   ]
  },
  {
   "cell_type": "markdown",
   "metadata": {},
   "source": [
    "PARTIE II\n",
    "=========\n"
   ]
  },
  {
   "cell_type": "markdown",
   "metadata": {},
   "source": [
    "## Application de la partie I \n",
    "Nous allons utiliser les données du fichier *Atome.csv*.   \n",
    "Dans un prochain TP nous verrons comment l'importer pour effectuer les traitements que nous allons voir."
   ]
  },
  {
   "cell_type": "code",
   "execution_count": 1,
   "metadata": {
    "scrolled": false
   },
   "outputs": [
    {
     "name": "stdout",
     "output_type": "stream",
     "text": [
      "Hygrogene\tH\t1\t1\t1.00794\tNon-metaux\t1|\t1766\tHenry Cavendish\tGrande-Bretagne\t1\t0\t#FF922E\r\n",
      "Helium\tHe\t2\t4\t4.0026\tGaz rares\t2|\t1895\tJules Janssen, Joseph Norman Lockyer\tGrande-Bretagne\t1\t17\t#FF0000\r\n",
      "Lithium\tLi\t3\t6,9\t6.9412\tMetaux alcalins\t2|1\t1817\tJohan August Arfwedson\tSuede\t2\t0\t#3B7AB2\r\n",
      "Beryllium\tBe\t4\t9\t9.012182\tMetaux alcalino-terreux\t2|2\t1798\tLouis-Nicolas Vauquelin\tFrance\t2\t1\t#038C73\r\n",
      "Bore\tB\t5\t10,8\t10.811\tMetalloides\t2|3\t1808\tLouis Joseph Gay-Lussac, Louis Jacques ThǸnard, Humphry Davy\tFrance et Grande-Bretagne\t2\t12\t#FFD10F\r\n",
      "Carbone\tC\t6\t12\t12.0107\tNon-metaux\t2|4\t1789 (mais connu depuis la prehistoire)\tLavoisier, Gaspard Monge, Claude Louis Berthollet\tFrance\t2\t13\t#FF922E\r\n",
      "Azote\tN\t7\t14\t14.00674\tNon-metaux\t2|5\t1772\tDaniel Rutherford\tEcosse\t2\t14\t#FF922E\r\n",
      "Oxygene\tO\t8\t16\t15.9994\tNon-metaux\t2|6\t1774\tCarl Wilhelm Scheele, Joseph Priestley\tGrande-Bretagne et Suede\t2\t15\t#FF922E\r\n",
      "Fluor\tF\t9\t19\t18.9984\tHalogenes\t2|7\t1886\tHenri Moissan\tFrance\t2\t16\t#FF5319\r\n",
      "Neon\tNe\t10\t20,2\t20.1797\tGaz rares\t2|8\t1898\tMorris William Travers, William Ramsay\tGrande-Bretagne\t2\t17\t#FF0000\r\n",
      "Sodium\tNa\t11\t23\t22.9897\tMetaux alcalins\t2|8|1\t1807\tHumphry Davy\tGrande-Bretagne\t3\t0\t#3B7AB2\r\n",
      "Magnesium\tMg\t12\t24,3\t24.3050\tMetaux alcalino-terreux\t2|8|2\t1775\tJoseph Black\tEcosse\t3\t1\t#038C73\r\n",
      "Aluminium\tAl\t13\t27\t26.9815\tMetaux pauvres\t2|8|3\t1827\tHans Christian Ersted\tDanemark\t3\t12\t#97ED8A\r\n",
      "Silicium\tSi\t14\t28,1\t28.0855\tMetalloides\t2|8|4\t1824\tJons Jacob Berzelius\tSuede\t3\t13\t#FFD10F\r\n",
      "Phosphore\tP\t15\t31\t30.973761\tNon-metaux\t2|8|5\t1669\tHennig Brandt\tAllemagne\t3\t14\t#FF922E\r\n",
      "Soufre\tS\t16\t32,1\t32.066\tNon-metaux\t2|8|6\tAntiquite\txxx\txxx\t3\t15\t#FF922E\r\n",
      "Chlore\tCl\t17\t35,5\t35.453\tHalogenes\t2|8|7\t1774\tCarl Wilhelm Scheele\tSuede\t3\t16\t#FF5319\r\n",
      "Argon\tAr\t18\t39,9\t39.948\tGaz rares\t2|8|8\t1894\tWilliam Ramsay, John William Strutt Rayleigh\txxx\t3\t17\t#FF0000\r\n",
      "Potassium\tK\t19\t39,1\t39.0963\tMetaux alcalins\t2|8|8|1\t1807\tHumphry Davy\tGrande-Bretagne\t4\t0\t#3B7AB2\r\n",
      "Calcium\tCa\t20\t40,1\t40.078\tMetaux alcalino-terreux\t2|8|8|2\t1808\tHumphry Davy\tGrande-Bretagne\t4\t1\t#038C73\r\n",
      "Scandium\tSc\t21\t45\t44.9559\tMetaux de transition\t2|8|9|2\t1879\tLars Fredrik Nilson\tSuede\t4\t2\t#22A86A\r\n",
      "Titane\tTi\t22\t47,9\t47.867\tMetaux de transition\t2|8|10|2\t1791\tWilliam Gregor\tGrande-Bretagne\t4\t3\t#22A86A\r\n",
      "Vanadium\tV\t23\t50,9\t50.9415\tMetaux de transition\t2|8|11|2\t1901\tAndres Manuel del Rio\tSuede\t4\t4\t#22A86A\r\n",
      "Chrome\tCr\t24\t52\t51.9961\tMetaux de transition\t2|8|13|1\t1797\tLouis-Nicolas Vauquelin\tFrance\t4\t5\t#22A86A\r\n",
      "Manganese\tMn\t25\t54,9\t54.9380\tMetaux de transition\t2|8|13|2\t1774\tIgnatius Gottfried Kaim, Johan Gottlieb Gahn\tSuede\t4\t6\t#22A86A\r\n",
      "Fer\tFe\t26\t55,8\t55.8457\tMetaux de transition\t2|8|14|2\t2 000 av. J.C.\txxx\tEgypte, Mesopotamie\t4\t7\t#22A86A\r\n",
      "Cobalt\tCo\t27\t58,9\t58.9332\tMetaux de transition\t2|8|15|2\t1735\tGeorg Brandt\tSuede\t4\t8\t#22A86A\r\n",
      "Nickel\tNi\t28\t58,7\t58.6934\tMetaux de transition\t2|8|16|2\t1751\tAxel Frederik Cronstedt\tSuede\t4\t9\t#22A86A\r\n",
      "Cuivre\tCu\t29\t63,5\t63.546\tMetaux de transition\t2|8|18|1\tPrehistoire\txxx\txxx\t4\t10\t#22A86A\r\n",
      "Zinc\tZn\t30\t65,4\t65.409\tMetaux de transition\t2|8|18|2\tAntiquite\txxx\txxx\t4\t11\t#22A86A\r\n",
      "Gallium\tGa\t31\t69,7\t69.723\tMetaux pauvres\t2|8|18|3\t1875\tPaul-Emile Lecoq de Boisbaudran\tFrance\t4\t12\t#97ED8A\r\n",
      "Germanium\tGe\t32\t72,6\t72.64\tMetalloides\t2|8|18|4\t1886\tClemens Winkler\tAllemagne\t4\t13\t#FFD10F\r\n",
      "Arsenic\tAs\t33\t74,9\t74.9216\tMetalloides\t2|8|18|5\t~1250\tAlbert le Grand\t\t4\t14\t#FFD10F\r\n",
      "Selenium\tSe\t34\t79\t78.96\tNon-metaux\t2|8|18|6\t1817\tJohan Gottlieb Gahn, Jons Jacob Berzelius\tSuede\t4\t15\t#FF922E\r\n",
      "Brome\tBr\t35\t79,9\t79.904\tHalogenes\t2|8|18|7\t1826\tLeopold Gmelin, Antoine-Jerome Balard\tFrance\t4\t16\t#FF5319\r\n",
      "Krypton\tKr\t36\t83,8\t83.798\tGaz rares\t2|8|18|8\t1898\tMorris William Travers, William Ramsay\tGrande-Bretagne\t4\t17\t#FF0000\r\n",
      "Rubidium\tRb\t37\t85,5\t85.4678\tMetaux alcalins\t2|8|18|8|1\t1861\tRobert Bunsen, Gustav Kirchhoff\tAllemagne\t5\t0\t#3B7AB2\r\n",
      "Strontium\tSr\t38\t87,6\t87.62\tMetaux alcalino-terreux\t2|8|18|8|2\t1790\tWilliam Cruickshank\tEcosse\t5\t1\t#038C73\r\n",
      "Yttrium\tY\t39\t88,9\t88.9059\tMetaux de transition\t2|8|18|9|2\t1794\tJohan Gadolin\tFinlande\t5\t2\t#22A86A\r\n",
      "Zirconium\tZr\t40\t91,2\t91.224\tMetaux de transition\t2|8|18|10|2\t1789\tMartin Heinrich Klaproth\tAllemagne\t5\t3\t#22A86A\r\n",
      "Niobium\tNb\t41\t92,9\t92.9063\tMetaux de transition\t2|8|18|12|1\t1801\tCharles Hatchett\tGrande-Bretagne\t5\t4\t#22A86A\r\n",
      "Molbydene\tMo\t42\t95,9\t95.94\tMetaux de transition\t2|8|18|13|1\t1778\tCarl Wilhelm Scheele\tSuede\t5\t5\t#22A86A\r\n",
      "Technetium\tTc\t43\t98\t97.9072\tMetaux de transition\t2|8|18|13|2\t1937\tEmilio Segre, Carlo Perrier\tItalie\t5\t6\t#22A86A\r\n",
      "Ruthenium\tRu\t44\t101,1\t101.07\tMetaux de transition\t2|8|18|15|1\t1844\tKarl Klaus\tRussie\t5\t7\t#22A86A\r\n",
      "Rhodium\tRh\t45\t102,9\t102.9055\tMetaux de transition\t2|8|18|16|1\t1803\tWilliam Hyde Wollaston\tGrande-Bretagne\t5\t8\t#22A86A\r\n",
      "Palladium\tPd\t46\t106,4\t106.42\tMetaux de transition\t2|8|18|18\t1803\tWilliam Hyde Wollaston\tGrande-Bretagne\t5\t9\t#22A86A\r\n",
      "Argent\tAg\t47\t107,9\t107.8682\tMetaux de transition\t2|8|18|18|1\tPrehistoire\txxx\txxx\t5\t10\t#22A86A\r\n",
      "Cadmium\tCd\t48\t112,4\t112.411\tMetaux de transition\t2|8|18|18|2\t1817\tKarl Samuel Leberecht Hermann, Friedrich Stromeyer\tAllemagne\t5\t11\t#22A86A\r\n",
      "Indium\tIn\t49\t114,8\t114.818\tMetaux pauvres\t2|8|18|18|3\t1863\txxx\tAllemagne\t5\t12\t#97ED8A\r\n",
      "Etain\tSn\t50\t118,7\t118.710\tMetaux pauvres\t2|8|18|18|4\t3 500 av. J.C.\txxx\txxx\t5\t13\t#97ED8A\r\n",
      "Antimoine\tSb\t51\t121,8\t121.760\tMetalloides\t2|8|18|18|5\tAntiquite\txxx\txxx\t5\t14\t#FFD10F\r\n",
      "Tellure\tTe\t52\t127,6\t127.60\tMetalloides\t2|8|18|18|6\t1782\tFranz Joseph Muller von Reichenstein\tTransylvanie\t5\t15\t#FFD10F\r\n",
      "Iode\tI\t53\t126,9\t126.9045\tHalogenes\t2|8|18|18|7\t1811\tBernard Courtois\tFrance\t5\t16\t#FF5319\r\n",
      "Xenon\tXe\t54\t131,3\t131.293\tGaz rares\t2|8|18|18|8\t1898\tWilliam Ramsay, Morris Travers\tGrande-Bretagne\t5\t17\t#FF0000\r\n",
      "Cesium\tCs\t55\t132,9\t132.9054\tMetaux alcalins\t2|8|18|18|8|1\t1860\tRobert Bunsen, Gustav Kirchhoff\tAllemagne\t6\t0\t#3B7AB2\r\n",
      "Baryum\tBa\t56\t137,3\t137.327\tMetaux alcalino-terreux\t2|8|18|18|8|2\t1808\tCarl Wilhelm Scheele\tGrande-Bretagne\t6\t1\t#038C73\r\n",
      "Lanthane\tLa\t57\t138,9\t138.9055\tLanthanides\t2|8|18|18|9|2\t1839\tCarl Gustaf Mosander\tSuede\t8\t3\t#CC4452\r\n",
      "Cerium\tCe\t58\t140,1\t140.116\tLanthanides\t2|8|18|19|9|2\t1803\tJons Jacob Berzelius, Wilhelm Hisinger / Martin Heinrich Klaproth\tSuede / Allemagne\t8\t4\t#CC4453\r\n",
      "Praseodyme\tPr\t59\t140,9\t140.9076\tLanthanides\t2|8|18|21|8|2\t1885\tCarl Auer Von Welsbach\tAutriche\t8\t5\t#CC4454\r\n",
      "Neodyme\tNd\t60\t144,2\t144.24\tLanthanides\t2|8|18|22|8|2\t1885\tCarl Auer Von Welsbach\tAutriche\t8\t6\t#CC4455\r\n",
      "Promethium\tPm\t61\t145\t144.9127\tLanthanides\t2|8|18|23|8|2\t1945\txxx\tEtats-Unis\t8\t7\t#CC4456\r\n",
      "Samarium\tSm\t62\t150,4\t150.36\tLanthanides\t2|8|18|24|8|2\t1879\tPaul-Emile Lecoq de Boisbaudran\tFrance\t8\t8\t#CC4457\r\n",
      "Europium\tEu\t63\t152\t151.964\tLanthanides\t2|8|18|25|8|2\t1901\tEugene Anatole\tFrance\t8\t9\t#CC4458\r\n",
      "Gadolinium\tGd\t64\t157,3\t157.25\tLanthanides\t2|8|18|25|9|2\t1880\tJean Charles Galissard de Marignac\tSuisse\t8\t10\t#CC4459\r\n",
      "Terbium\tTb\t65\t158,9\t158.9253\tLanthanides\t2|8|18|27|8|2\t1843\tCarl Gustaf Mosander\tSuede\t8\t11\t#CC4460\r\n",
      "Dysprosium\tDy\t66\t162,5\t162.500\tLanthanides\t2|8|18|28|8|2\t1886\tFrancois Lecoq de Boisbaudran\tFrance\t8\t12\t#CC4461\r\n",
      "Holmium\tHo\t67\t164,9\t164.9303\tLanthanides\t2|8|18|29|8|2\t1878\tPer Teodor Cleve, Jacques-Louis Soret, Marc Delafontaine\tSuede, Suisse\t8\t13\t#CC4462\r\n",
      "Erbium\tEr\t68\t167,3\t167.259\tLanthanides\t2|8|18|30|8|2\t1843\tCarl Gustaf Mosander\tSuede\t8\t14\t#CC4463\r\n",
      "Thulium\tTm\t69\t168,9\t168.9342\tLanthanides\t2|8|18|31|8|2\t1879\tPer Teodor Cleve \tSuede\t8\t15\t#CC4464\r\n",
      "Ytterbium\tYb\t70\t173\t173.04\tLanthanides\t2|8|18|32|8|2\t1878\tJean Charles Galissard de Marignac\tSuisse\t8\t16\t#CC4465\r\n",
      "Lutecium\tLu\t71\t175\t174.967\tLanthanides\t2|8|18|32|9|2\t1907\tGeorges Urbain / Carl Auer Von Welsbach \tFrance / Allemagne\t8\t17\t#CC4466\r\n",
      "Hafnium\tHf\t72\t178,5\t178.49\tMetaux de transition\t2|8|18|32|10|2\t1923\tGeorge de Hevesy, Dirk Coster\tDanemark\t6\t3\t#22A86A\r\n",
      "Tantale\tTa\t73\t180,9\t180.9479\tMetaux de transition\t2|8|18|32|11|2\t1802\tAnders Ekeberg\tSuede\t6\t4\t#22A86A\r\n",
      "Tungstene\tW\t74\t183,9\t183.84\tMetaux de transition\t2|8|18|32|12|2\t1783\tJose et Fausto Elhuyar\tEspagne\t6\t5\t#22A86A\r\n",
      "Rhenium\tRe\t75\t186,2\t186.207\tMetaux de transition\t2|8|18|32|13|2\t1925\tWalter Noddack, Ida Eva Tacke, Otto Berg\tAllemagne\t6\t6\t#22A86A\r\n",
      "Osmium\tOs\t76\t190,2\t190.23\tMetaux de transition\t2|8|18|32|14|2\t1803\tSmithson Tennant\tGrande-Bretagne\t6\t7\t#22A86A\r\n",
      "Iridium\tIr\t77\t192,2\t192.217\tMetaux de transition\t2|8|18|32|15|2\t1803\tSmithson Tennant\tGrande-Bretagne et France\t6\t8\t#22A86A\r\n",
      "Platine\tPt\t78\t195,1\t195.078\tMetaux de transition\t2|8|18|32|17|1\t1735\tAntonio de Ulloa\tItalie\t6\t9\t#22A86A\r\n",
      "Or\tAu\t79\t197\t166.9665\tMetaux de transition\t2|8|18|32|18|1\tPrehistoire\txxx\txxx\t6\t10\t#22A86A\r\n",
      "Mercure\tHg\t80\t200,6\t200.59\tMetaux de transition\t2|8|18|32|18|2\tAntiquite\txxx\tChine, Inde, Egypte\t6\t11\t#22A86A\r\n",
      "Thallium\tTl\t81\t204,4\t204.3833\tMetaux pauvres\t2|8|18|32|18|3\t1861\tWilliam Crookes\tGrande-Bretagne\t6\t12\t#97ED8A\r\n",
      "Plomb\tPb\t82\t207,2\t207.2\tMetaux pauvres\t2|8|18|32|18|4\tAntiquite\txxx\txxx\t6\t13\t#97ED8A\r\n",
      "Biismuth\tBi\t83\t209\t208.9804\tMetaux pauvres\t2|8|18|32|18|5\t1753\tJabir Ibn Hayyan\tFrance\t6\t14\t#97ED8A\r\n",
      "Polonium\tPo\t84\t210\t208.9824\tMetalloides\t2|8|18|32|18|6\t1898\tMarie Curie, Pierre Curie\tFrance\t6\t15\t#FFD10F\r\n",
      "Astate\tAt\t85\t218\t209.9871\tHalogenes\t2|8|18|32|18|7\t1940\tKenneth Ross McKenzie, Dale Corson, Emilio Segre\tEtats-Unis\t6\t16\t#FF5319\r\n",
      "Radon\tRn\t86\t222\t210.9906\tGaz rares\t2|8|18|32|18|8\t1900\tFriedrich Ernst Dorn\tAllemagne\t6\t17\t#FF0000\r\n",
      "Francium\tFr\t87\t223\t223.0197\tMetaux alcalins\t2|8|18|32|18|8|1\t1939\tMarguerite Perey\tFrance\t7\t0\t#3B7AB2\r\n",
      "Radium\tRa\t88\t226\t226.0254\tMetaux alcalino-terreux\t2|8|18|32|18|8|2\t1898\tPierre Curie, Marie Curie\tFrance\t7\t1\t#038C73\r\n",
      "Actinium\tAc\t89\t227\t227.0278\tActinides\t2|8|18|32|18|9|2\t1899\tAndre Louis Debierne\tFrance\t9\t3\t#72315C\r\n",
      "Thorium\tTh\t90\t232\t232.0381\tActinides\t2|8|18|32|18|10|2\t1828\tJons Jacob Berzelius\tSuede\t9\t4\t#72315C\r\n",
      "Protactinium\tPa\t91\t231\t231.0359\tActinides\t2|8|18|32|20|9|2\t1918\tOtto Hahn, Lise Meitner / John Cranston\tAllemagne / Grande-Bretagne\t9\t5\t#72315C\r\n",
      "Uranium\tU\t92\t238\t238.02891\tActinides\t2|8|18|32|21|9|2\t1789\tMartin Heinrich Klaproth\tAllemagne\t9\t6\t#72315C\r\n",
      "Neptunium\tNp\t93\t237\t237.0482\tActinides\t2|8|18|32|22|9|2\t1940\tEdwin McMillan, Philip Abelson\tEtats-Unis\t9\t7\t#72315C\r\n",
      "Plutonium\tPu\t94\t244\t244.0642\tActinides\t2|8|18|32|24|8|2\t1940\tArthur Wahl, Edwin McMillan, Glenn Theodore Seaborg, Joseph W. Kennedy\tEtats-Unis\t9\t8\t#72315C\r\n",
      "Americium\tAm\t95\t243\t243.0614\tActinides\t2|8|18|32|25|8|2\t1944\tAlbert Ghiorso, Glenn T. Seaborg, Leon Morgan, Ralph James\tEtats-Unis\t9\t9\t#72315C\r\n",
      "Curium\tCm\t96\t247\t247.0703\tActinides\t2|8|18|32|25|9|2\t1944\tAlbert Ghiorso, Glenn T. Seaborg, Ralph James\tEtats-Unis\t9\t10\t#72315C\r\n",
      "Berkelium\tBk\t97\t247\t247.0703\tActinides\t2|8|18|32|27|8|2\t1949\tStanley Thompson, Albert Ghiorso, Glenn T. Seaborg\tEtats-Unis\t9\t11\t#72315C\r\n",
      "Californium\tCf\t98\t251\t251.0796\tActinides\t2|8|18|32|28|8|2\t1950\tAlbert Ghiorso, Glenn Theodore Seaborg\tEtats-Unis\t9\t12\t#72315C\r\n",
      "Einsteinium\tEs\t99\t252\t252.083\tActinides\t2|8|18|32|29|8|2\t1952\tAlbert Ghiorso\tEtats-Unis\t9\t13\t#72315C\r\n",
      "Fermium\tFm\t100\t257\t257.0951\tActinides\t2|8|18|32|30|8|2\t1952\tAlbert Ghiorso\tEtats-Unis\t9\t14\t#72315C\r\n",
      "Mendelevium\tMd\t101\t258\t258.09857\tActinides\t2|8|18|32|31|8|2\t1955\txxx\tEtats-Unis\t9\t15\t#72315C\r\n",
      "Nobelium\tNo\t102\t259\t259.1009\tActinides\t2|8|18|32|32|8|2\t1957\txxx\tSuede et Etats-Unis\t9\t16\t#72315C\r\n",
      "Lawrencium\tLr\t103\t260\t262.1097\tActinides\t2|8|18|32|32|8|3\t1961\tAlbert Ghiorso\tEtats-Unis\t9\t17\t#72315C\r\n",
      "Rutherfordium\tRf\t104\t263\t263.1125\tMetaux de transition\t2|8|18|32|32|10|2\t1964\txxx\tRussie et Etats-Unis\t7\t3\t#22A86A\r\n",
      "Dubnium\tDb\t105\t262\t262.1144\tMetaux de transition\t2|8|18|32|32|11|2\t1968\tGeorgi Nikolaievitch Flerow\tRussie\t7\t4\t#22A86A\r\n",
      "Seaborgium\tSg\t106\t266\t266.1219\tMetaux de transition\t2|8|18|32|32|12|2\t1974\txxx\tRussie et Etats-Unis\t7\t5\t#22A86A\r\n",
      "Bohrium\tBh\t107\t264\t264.1247\tMetaux de transition\t2|8|18|32|32|13|2\t1976\tYuri Oganessian\tRussie\t7\t6\t#22A86A\r\n",
      "Hassium\tHs\t108\t269\t269.1341\tMetaux de transition\t2|8|18|32|32|14|2\t1984\tPeter Armbruster, Gottfried Muzenberg\tAllemagne\t7\t7\t#22A86A\r\n",
      "Meitnerium\tMt\t109\t268\t268.1388\tMetaux de transition\t2|8|18|32|32|15|2\t1982\tPeter Armbruster, Gottfried Muzenberg\tAllemagne\t7\t8\t#22A86A\r\n",
      "Darmstadtium\tDs\t110\t269\t[281]\tMetaux de transition\t2|8|18|32|32|17|1\t1994\tSigurd Hofmann\tAllemagne\t7\t9\t#22A86A\r\n",
      "Roentgenium\tRg\t111\t272\t[282]\tMetaux de transition\t2|8|18|32|32|18|1\t1994\tSigurd Hofmann\tAllemagne\t7\t10\t#22A86A\r\n",
      "Copernicium\tCn\t112\txxx\t[285]\tMetaux de transition\t2|8|18|32|32|18|2\t1996\txxx\tAllemagne\t7\t11\t#22A86A\r\n",
      "Nihonium\tNh\t113\txxx\t[286]\tIndeterminee\t2|8|18|32|32|18|3\t2003\txxx\tRussie et Etats-Unis\t7\t12\tgrey\r\n",
      "Flerovium\tFl\t114\txxx\t[289]\tIndeterminee\t2|8|18|32|32|18|4\t1998\txxx\tRussie\t7\t13\tgrey\r\n",
      "Moscovium\tMc\t115\txxx\t[289]\tIndeterminee\t2|8|18|32|32|18|5\t2003\txxx\tRussie et Etats-Unis\t7\t14\tgrey\r\n",
      "Livermorium\tLv\t116\txxx\t[293]\tIndeterminee\t2|8|18|32|32|18|6\t2000\tYuri Tsolakovich\tRussie\t7\t15\tgrey\r\n",
      "Tennessine\tTs\t117\txxx\t[294]\tIndeterminee\t2|8|18|32|32|18|7\t2010\txxx\tRussie\t7\t16\tgrey\r\n",
      "Oganesson\tOg\t118\txxx\t[294]\tIndeterminee\t2|8|18|32|32|18|8\t2002\txxx\tRussie\t7\t17\tgrey\r\n"
     ]
    }
   ],
   "source": [
    "# Pour avoir néanmoins une idée du contenu de ce fichier\n",
    "# Lancer la commande linux cat Atomes.csv  dans un terminal ou bien ici Ipython avec :\n",
    "!cat Atomes.csv"
   ]
  },
  {
   "cell_type": "markdown",
   "metadata": {},
   "source": [
    "#### Voici la liste des noms des atomes de ce fichier.  "
   ]
  },
  {
   "cell_type": "markdown",
   "metadata": {},
   "source": [
    "> Rappel du cours: préfixe **L_**  pour liste"
   ]
  },
  {
   "cell_type": "code",
   "execution_count": null,
   "metadata": {},
   "outputs": [],
   "source": [
    "L_nom_atom=['Hygrogene',\n",
    "'Helium',\n",
    "'Lithium',\n",
    "'Beryllium',\n",
    "'Bore',\n",
    "'Carbone',\n",
    "'Azote',\n",
    "'Oxygene',\n",
    "'Fluor',\n",
    "'Neon',\n",
    "'Sodium',\n",
    "'Magnesium',\n",
    "'Aluminium',\n",
    "'Silicium',\n",
    "'Phosphore',\n",
    "'Soufre',\n",
    "'Chlore',\n",
    "'Argon',\n",
    "'Potassium',\n",
    "'Calcium',\n",
    "'Scandium',\n",
    "'Titane',\n",
    "'Vanadium',\n",
    "'Chrome',\n",
    "'Manganese',\n",
    "'Fer',\n",
    "'Cobalt',\n",
    "'Nickel',\n",
    "'Cuivre',\n",
    "'Zinc',\n",
    "'Gallium',\n",
    "'Germanium',\n",
    "'Arsenic',\n",
    "'Selenium',\n",
    "'Brome',\n",
    "'Krypton',\n",
    "'Rubidium',\n",
    "'Strontium',\n",
    "'Yttrium',\n",
    "'Zirconium',\n",
    "'Niobium',\n",
    "'Molbydene',\n",
    "'Technetium',\n",
    "'Ruthenium',\n",
    "'Rhodium',\n",
    "'Palladium',\n",
    "'Argent',\n",
    "'Cadmium',\n",
    "'Indium',\n",
    "'Etain',\n",
    "'Antimoine',\n",
    "'Tellure',\n",
    "'Iode',\n",
    "'Xenon',\n",
    "'Cesium',\n",
    "'Baryum',\n",
    "'Lanthane',\n",
    "'Cerium',\n",
    "'Praseodyme',\n",
    "'Neodyme',\n",
    "'Promethium',\n",
    "'Samarium',\n",
    "'Europium',\n",
    "'Gadolinium',\n",
    "'Terbium',\n",
    "'Dysprosium',\n",
    "'Holmium',\n",
    "'Erbium',\n",
    "'Thulium',\n",
    "'Ytterbium',\n",
    "'Lutecium',\n",
    "'Hafnium',\n",
    "'Tantale',\n",
    "'Tungstene',\n",
    "'Rhenium',\n",
    "'Osmium',\n",
    "'Iridium',\n",
    "'Platine',\n",
    "'Or',\n",
    "'Mercure',\n",
    "'Thallium',\n",
    "'Plomb',\n",
    "'Biismuth',\n",
    "'Polonium',\n",
    "'Astate',\n",
    "'Radon',\n",
    "'Francium',\n",
    "'Radium',\n",
    "'Actinium',\n",
    "'Thorium',\n",
    "'Protactinium',\n",
    "'Uranium',\n",
    "'Neptunium',\n",
    "'Plutonium',\n",
    "'Americium',\n",
    "'Curium',\n",
    "'Berkelium',\n",
    "'Californium',\n",
    "'Einsteinium',\n",
    "'Fermium',\n",
    "'Mendelevium',\n",
    "'Nobelium',\n",
    "'Lawrencium',\n",
    "'Rutherfordium',\n",
    "'Dubnium',\n",
    "'Seaborgium',\n",
    "'Bohrium',\n",
    "'Hassium',\n",
    "'Meitnerium',\n",
    "'Darmstadtium',\n",
    "'Roentgenium',\n",
    "'Copernicium',\n",
    "'Nihonium',\n",
    "'Flerovium',\n",
    "'Moscovium',\n",
    "'Livermorium',\n",
    "'Tennessine',\n",
    "'Oganesson'\n",
    "]"
   ]
  },
  {
   "cell_type": "code",
   "execution_count": null,
   "metadata": {},
   "outputs": [],
   "source": [
    "# A retenir, plus lisible comme ceci avec print\n",
    "print(L_nom_atom)"
   ]
  },
  {
   "cell_type": "markdown",
   "metadata": {},
   "source": [
    "#### Ici le tuple de l'abréviation des atomes. "
   ]
  },
  {
   "cell_type": "markdown",
   "metadata": {},
   "source": [
    "(**T_**   pour tuple)"
   ]
  },
  {
   "cell_type": "code",
   "execution_count": null,
   "metadata": {},
   "outputs": [],
   "source": [
    "T_Abrv_Atom=('H',\n",
    "'He',\n",
    "'Li',\n",
    "'Be',\n",
    "'B',\n",
    "'C',\n",
    "'N',\n",
    "'O',\n",
    "'F',\n",
    "'Ne',\n",
    "'Na',\n",
    "'Mg',\n",
    "'Al',\n",
    "'Si',\n",
    "'P',\n",
    "'S',\n",
    "'Cl',\n",
    "'Ar',\n",
    "'K',\n",
    "'Ca',\n",
    "'Sc',\n",
    "'Ti',\n",
    "'V',\n",
    "'Cr',\n",
    "'Mn',\n",
    "'Fe',\n",
    "'Co',\n",
    "'Ni',\n",
    "'Cu',\n",
    "'Zn',\n",
    "'Ga',\n",
    "'Ge',\n",
    "'As',\n",
    "'Se',\n",
    "'Br',\n",
    "'Kr',\n",
    "'Rb',\n",
    "'Sr',\n",
    "'Y',\n",
    "'Zr',\n",
    "'Nb',\n",
    "'Mo',\n",
    "'Tc',\n",
    "'Ru',\n",
    "'Rh',\n",
    "'Pd',\n",
    "'Ag',\n",
    "'Cd',\n",
    "'In',\n",
    "'Sn',\n",
    "'Sb',\n",
    "'Te',\n",
    "'I',\n",
    "'Xe',\n",
    "'Cs',\n",
    "'Ba',\n",
    "'La',\n",
    "'Ce',\n",
    "'Pr',\n",
    "'Nd',\n",
    "'Pm',\n",
    "'Sm',\n",
    "'Eu',\n",
    "'Gd',\n",
    "'Tb',\n",
    "'Dy',\n",
    "'Ho',\n",
    "'Er',\n",
    "'Tm',\n",
    "'Yb',\n",
    "'Lu',\n",
    "'Hf',\n",
    "'Ta',\n",
    "'W',\n",
    "'Re',\n",
    "'Os',\n",
    "'Ir',\n",
    "'Pt',\n",
    "'Au',\n",
    "'Hg',\n",
    "'Tl',\n",
    "'Pb',\n",
    "'Bi',\n",
    "'Po',\n",
    "'At',\n",
    "'Rn',\n",
    "'Fr',\n",
    "'Ra',\n",
    "'Ac',\n",
    "'Th',\n",
    "'Pa',\n",
    "'U',\n",
    "'Np',\n",
    "'Pu',\n",
    "'Am',\n",
    "'Cm',\n",
    "'Bk',\n",
    "'Cf',\n",
    "'Es',\n",
    "'Fm',\n",
    "'Md',\n",
    "'No',\n",
    "'Lr',\n",
    "'Rf',\n",
    "'Db',\n",
    "'Sg',\n",
    "'Bh',\n",
    "'Hs',\n",
    "'Mt',\n",
    "'Ds',\n",
    "'Rg',\n",
    "'Cn',\n",
    "'Nh',\n",
    "'Fl',\n",
    "'Mc',\n",
    "'Lv',\n",
    "'Ts',\n",
    "'Og'\n",
    ")"
   ]
  },
  {
   "cell_type": "code",
   "execution_count": null,
   "metadata": {},
   "outputs": [],
   "source": [
    "print(T_Abrv_Atom)"
   ]
  },
  {
   "cell_type": "markdown",
   "metadata": {},
   "source": [
    "> **Exercice**  \n",
    "> Quelle(s) instruction(s) permettrait(ent) d'obtenir le résultat suivant:   \n",
    "*('Xe', 'Xenon')*"
   ]
  },
  {
   "cell_type": "code",
   "execution_count": null,
   "metadata": {},
   "outputs": [],
   "source": [
    "# vos instructions ici\n"
   ]
  },
  {
   "cell_type": "markdown",
   "metadata": {},
   "source": [
    "> **Exercice**  \n",
    "> Quelle boucle *for* permettrait d'obtenir le résultat ci-dessous: \n",
    ">> le 3 ème élément est le Beryllium dont l'abréviation est :  Be  \n",
    "le 4 ème élément est le Bore dont l'abréviation est :  B  \n",
    "le 5 ème élément est le Carbone dont l'abréviation est :  C  \n",
    "le 6 ème élément est le Azote dont l'abréviation est :  N  \n",
    "le 7 ème élément est le Oxygene dont l'abréviation est :  O  \n",
    "le 8 ème élément est le Fluor dont l'abréviation est :  F   \n",
    "le 9 ème élément est le Neon dont l'abréviation est :  Ne  \n",
    "le 10 ème élément est le Sodium dont l'abréviation est :  Na  \n",
    "le 11 ème élément est le Magnesium dont l'abréviation est :  Mg  \n",
    "le 12 ème élément est le Aluminium dont l'abréviation est :  Al  \n"
   ]
  },
  {
   "cell_type": "markdown",
   "metadata": {},
   "source": [
    "**Le tuple ci-dessous donne dans le même ordre que la liste des noms, ou que le tuple des abreviations, des atomes la famille à laquelle, ils appartiennent.**"
   ]
  },
  {
   "cell_type": "code",
   "execution_count": null,
   "metadata": {},
   "outputs": [],
   "source": [
    "T_Mat_Atom=('Non-metaux',\n",
    "'Gaz rares',\n",
    "'Metaux alcalins',\n",
    "'Metaux alcalino-terreux',\n",
    "'Metalloides',\n",
    "'Non-metaux',\n",
    "'Non-metaux',\n",
    "'Non-metaux',\n",
    "'Halogenes',\n",
    "'Gaz rares',\n",
    "'Metaux alcalins',\n",
    "'Metaux alcalino-terreux',\n",
    "'Metaux pauvres',\n",
    "'Metalloides',\n",
    "'Non-metaux',\n",
    "'Non-metaux',\n",
    "'Halogenes',\n",
    "'Gaz rares',\n",
    "'Metaux alcalins',\n",
    "'Metaux alcalino-terreux',\n",
    "'Metaux de transition',\n",
    "'Metaux de transition',\n",
    "'Metaux de transition',\n",
    "'Metaux de transition',\n",
    "'Metaux de transition',\n",
    "'Metaux de transition',\n",
    "'Metaux de transition',\n",
    "'Metaux de transition',\n",
    "'Metaux de transition',\n",
    "'Metaux de transition',\n",
    "'Metaux pauvres',\n",
    "'Metalloides',\n",
    "'Metalloides',\n",
    "'Non-metaux',\n",
    "'Halogenes',\n",
    "'Gaz rares',\n",
    "'Metaux alcalins',\n",
    "'Metaux alcalino-terreux',\n",
    "'Metaux de transition',\n",
    "'Metaux de transition',\n",
    "'Metaux de transition',\n",
    "'Metaux de transition',\n",
    "'Metaux de transition',\n",
    "'Metaux de transition',\n",
    "'Metaux de transition',\n",
    "'Metaux de transition',\n",
    "'Metaux de transition',\n",
    "'Metaux de transition',\n",
    "'Metaux pauvres',\n",
    "'Metaux pauvres',\n",
    "'Metalloides',\n",
    "'Metalloides',\n",
    "'Halogenes',\n",
    "'Gaz rares',\n",
    "'Metaux alcalins',\n",
    "'Metaux alcalino-terreux',\n",
    "'Lanthanides',\n",
    "'Lanthanides',\n",
    "'Lanthanides',\n",
    "'Lanthanides',\n",
    "'Lanthanides',\n",
    "'Lanthanides',\n",
    "'Lanthanides',\n",
    "'Lanthanides',\n",
    "'Lanthanides',\n",
    "'Lanthanides',\n",
    "'Lanthanides',\n",
    "'Lanthanides',\n",
    "'Lanthanides',\n",
    "'Lanthanides',\n",
    "'Lanthanides',\n",
    "'Metaux de transition',\n",
    "'Metaux de transition',\n",
    "'Metaux de transition',\n",
    "'Metaux de transition',\n",
    "'Metaux de transition',\n",
    "'Metaux de transition',\n",
    "'Metaux de transition',\n",
    "'Metaux de transition',\n",
    "'Metaux de transition',\n",
    "'Metaux pauvres',\n",
    "'Metaux pauvres',\n",
    "'Metaux pauvres',\n",
    "'Metalloides',\n",
    "'Halogenes',\n",
    "'Gaz rares',\n",
    "'Metaux alcalins',\n",
    "'Metaux alcalino-terreux',\n",
    "'Actinides',\n",
    "'Actinides',\n",
    "'Actinides',\n",
    "'Actinides',\n",
    "'Actinides',\n",
    "'Actinides',\n",
    "'Actinides',\n",
    "'Actinides',\n",
    "'Actinides',\n",
    "'Actinides',\n",
    "'Actinides',\n",
    "'Actinides',\n",
    "'Actinides',\n",
    "'Actinides',\n",
    "'Actinides',\n",
    "'Metaux de transition',\n",
    "'Metaux de transition',\n",
    "'Metaux de transition',\n",
    "'Metaux de transition',\n",
    "'Metaux de transition',\n",
    "'Metaux de transition',\n",
    "'Metaux de transition',\n",
    "'Metaux de transition',\n",
    "'Metaux de transition',\n",
    "'Indeterminee',\n",
    "'Indeterminee',\n",
    "'Indeterminee',\n",
    "'Indeterminee',\n",
    "'Indeterminee',\n",
    "'Indeterminee'\n",
    ")"
   ]
  },
  {
   "cell_type": "markdown",
   "metadata": {},
   "source": [
    "> **Exercice**  \n",
    "> Comme obtenir une liste (ou un tuple) *T_uniq_Mat_Atom* contenant les 11 familles distinctes d'atomes?\n",
    ">> Les voici ici triées:  \n",
    "'Actinides', 'Gaz rares', 'Halogenes', 'Indeterminee', 'Lanthanides', 'Metalloides', 'Metaux alcalino-terreux', 'Metaux alcalins', 'Metaux de transition', 'Metaux pauvres', 'Non-metaux'"
   ]
  },
  {
   "cell_type": "markdown",
   "metadata": {},
   "source": [
    "> Essayer de comprendre ce que fait le script suivant (ainsi que les autres).   \n",
    "Vous aurez au préalable répondu à l'exercice précédent et obtenue le tuple *T_uniq_Mat_Atom*.    \n",
    "Commentez ce code."
   ]
  },
  {
   "cell_type": "code",
   "execution_count": null,
   "metadata": {},
   "outputs": [],
   "source": [
    "L_Mat_l_elt=[]\n",
    "for mat in T_uniq_Mat_Atom:\n",
    "    Lmat=[]\n",
    "    i=0\n",
    "    for mat_elt in T_Mat_Atom:\n",
    "        if mat==mat_elt:\n",
    "            Lmat.append([L_nom_atom[i],i])\n",
    "        i=i+1\n",
    "    L_Mat_l_elt.append([mat,Lmat])"
   ]
  },
  {
   "cell_type": "code",
   "execution_count": null,
   "metadata": {},
   "outputs": [],
   "source": [
    "print(L_Mat_l_elt)"
   ]
  },
  {
   "cell_type": "code",
   "execution_count": null,
   "metadata": {},
   "outputs": [],
   "source": [
    "L_Mat_l_elt[0]"
   ]
  },
  {
   "cell_type": "code",
   "execution_count": null,
   "metadata": {},
   "outputs": [],
   "source": [
    "L_Mat_l_elt[0][0]"
   ]
  },
  {
   "cell_type": "code",
   "execution_count": null,
   "metadata": {},
   "outputs": [],
   "source": [
    "L_Mat_l_elt[0][1][0]"
   ]
  },
  {
   "cell_type": "code",
   "execution_count": null,
   "metadata": {},
   "outputs": [],
   "source": [
    "L_Mat_l_elt[0][1][2]"
   ]
  },
  {
   "cell_type": "code",
   "execution_count": null,
   "metadata": {},
   "outputs": [],
   "source": [
    "L_Mat_l_elt[0][1][2][0]"
   ]
  },
  {
   "cell_type": "code",
   "execution_count": null,
   "metadata": {},
   "outputs": [],
   "source": [
    "L_var_Actinides=[['Actinium', 88], ['Thorium', 89], ['Protactinium', 90], ['Uranium', 91], ['Neptunium', 92], ['Plutonium', 93], ['Americium', 94], ['Curium', 95], ['Berkelium', 96], ['Californium', 97], ['Einsteinium', 98], ['Fermium', 99], ['Mendelevium', 100], ['Nobelium', 101], ['Lawrencium', 102]]"
   ]
  },
  {
   "cell_type": "code",
   "execution_count": null,
   "metadata": {},
   "outputs": [],
   "source": [
    "print(L_var_Actinides)"
   ]
  },
  {
   "cell_type": "code",
   "execution_count": null,
   "metadata": {},
   "outputs": [],
   "source": [
    "T_nom_Actinides=[]\n",
    "for i,elt in enumerate(L_var_Actinides):\n",
    "    T_nom_Actinides.append(elt[0])\n",
    "print(T_nom_Actinides)   \n"
   ]
  },
  {
   "cell_type": "code",
   "execution_count": null,
   "metadata": {},
   "outputs": [],
   "source": [
    "T_nom_Actinides=[]\n",
    "for elt in L_var_Actinides:\n",
    "    T_nom_Actinides.append(elt[0])\n",
    "print(tuple(T_nom_Actinides))   "
   ]
  },
  {
   "cell_type": "markdown",
   "metadata": {},
   "source": [
    "> Comment pouriez-vous organiser la *L_Mat_l_elt* afin d'obtenir le résultat ci-dessous?\n",
    ">> Dans la famille des Actinides, on trouve les atomes: ('Actinium', 'Thorium', 'Protactinium', 'Uranium', 'Neptunium', 'Plutonium', 'Americium', 'Curium', 'Berkelium', 'Californium', 'Einsteinium', 'Fermium', 'Mendelevium', 'Nobelium', 'Lawrencium')  \n",
    ">> Dans la famille des Gaz rares, on trouve les atomes: ('Helium', 'Neon', 'Argon', 'Krypton', 'Xenon', 'Radon')  \n",
    ">>...   \n",
    "...  \n",
    "...  \n",
    "Dans la famille des Metaux pauvres, on trouve les atomes: ('Aluminium', 'Gallium', 'Indium', 'Etain', 'Thallium', 'Plomb', 'Biismuth')  \n",
    "Dans la famille des Non-metaux, on trouve les atomes: ('Hygrogene', 'Carbone', 'Azote', 'Oxygene', 'Phosphore', 'Soufre', 'Selenium')"
   ]
  },
  {
   "cell_type": "code",
   "execution_count": null,
   "metadata": {},
   "outputs": [],
   "source": []
  },
  {
   "cell_type": "markdown",
   "metadata": {},
   "source": [
    "PARTIE III\n",
    "========"
   ]
  },
  {
   "cell_type": "markdown",
   "metadata": {
    "dicho": {
     "celltype": "normal",
     "readonly": false
    }
   },
   "source": [
    "# Pour aller encore plus loin dans IPython...\n",
    "\n",
    "**Uniquement pour votre culture personnelle...**\n",
    "\n",
    "## Les commandes magiques\n",
    "\n",
    "### %pylab inline\n",
    "\n",
    "Importe les modules `numpy` et `matplotlib`.   \n",
    "L'option `inline` indique que les figures *Matplotlib* seront insérées dans le notebook lui-même plutôt que dans une fenêtre graphique à part. C'est la seule option possible car votre système ne dispose pas d'interface graphique.\n",
    "\n",
    "L'instruction `%pylab inline` exécute en particulier les deux instructions suivantes:  \n",
    "```python\n",
    "import numpy as np\n",
    "import matplotlib.pyplot as plt\n",
    "```"
   ]
  },
  {
   "cell_type": "code",
   "execution_count": null,
   "metadata": {
    "dicho": {
     "celltype": "normal",
     "readonly": false
    }
   },
   "outputs": [],
   "source": [
    "%pylab inline"
   ]
  },
  {
   "cell_type": "code",
   "execution_count": null,
   "metadata": {
    "dicho": {
     "celltype": "normal",
     "readonly": false
    }
   },
   "outputs": [],
   "source": [
    "X = np.linspace(-1, 1, 100)\n",
    "plt.plot(X, X ** 2)"
   ]
  },
  {
   "cell_type": "markdown",
   "metadata": {
    "dicho": {
     "celltype": "normal",
     "readonly": false
    }
   },
   "source": [
    "### %%writefile\n",
    "\n",
    "Crée un fichier de texte. L'exemple donné ci-dessous est un script *python* mais il peut s'agir de n'importe quel fichier de texte."
   ]
  },
  {
   "cell_type": "code",
   "execution_count": null,
   "metadata": {
    "dicho": {
     "celltype": "normal",
     "readonly": false
    }
   },
   "outputs": [],
   "source": [
    "%%writefile square.py\n",
    "\"\"\" Exemple de scripts\n",
    "\"\"\"\n",
    "\n",
    "k = 1\n",
    "s = 1\n",
    "while k <= 10:\n",
    "    print(k ** 2, s)\n",
    "    s = s + 2*k + 1\n",
    "    k = k + 1"
   ]
  },
  {
   "cell_type": "code",
   "execution_count": null,
   "metadata": {},
   "outputs": [],
   "source": [
    "ls"
   ]
  },
  {
   "cell_type": "markdown",
   "metadata": {
    "dicho": {
     "celltype": "normal",
     "readonly": false
    }
   },
   "source": [
    "### %less\n",
    "\n",
    "Cette commande permet de visualiser le contenu d'un fichier de texte. "
   ]
  },
  {
   "cell_type": "code",
   "execution_count": null,
   "metadata": {
    "dicho": {
     "celltype": "normal",
     "readonly": false
    }
   },
   "outputs": [],
   "source": [
    "%less square.py"
   ]
  },
  {
   "cell_type": "markdown",
   "metadata": {
    "dicho": {
     "celltype": "normal",
     "readonly": false
    }
   },
   "source": [
    "### %run\n",
    "\n",
    "La commande `%run foo` exécute le script *python* `foo.py` comme si vous l'aviez exécuté directement depuis le terminal :\n",
    "\n",
    "```\n",
    "psiet-turing@Chato~$ python3 foo.py\n",
    "```\n",
    "La différence est qu'à la fin de l'exécution du script tous les objets définis par le script sont insérés dans l'*espace de nom global* de l'interpréteur."
   ]
  },
  {
   "cell_type": "code",
   "execution_count": null,
   "metadata": {
    "dicho": {
     "celltype": "normal",
     "readonly": false
    }
   },
   "outputs": [],
   "source": [
    "%run square"
   ]
  },
  {
   "cell_type": "code",
   "execution_count": null,
   "metadata": {
    "dicho": {
     "celltype": "normal",
     "readonly": false
    }
   },
   "outputs": [],
   "source": [
    "k, s"
   ]
  },
  {
   "cell_type": "markdown",
   "metadata": {
    "dicho": {
     "celltype": "normal",
     "readonly": false
    }
   },
   "source": [
    "### %timeit\n",
    "\n",
    "Mesure le temps d'exécution d'une instruction ou d'une expression.\n",
    "Le code est exécuté plusieurs fois et le temps moyen d'exécution est affiché :"
   ]
  },
  {
   "cell_type": "code",
   "execution_count": null,
   "metadata": {
    "dicho": {
     "celltype": "normal",
     "readonly": false
    }
   },
   "outputs": [],
   "source": [
    "!cat arithmetique.py"
   ]
  },
  {
   "cell_type": "code",
   "execution_count": null,
   "metadata": {
    "dicho": {
     "celltype": "normal",
     "readonly": false
    }
   },
   "outputs": [],
   "source": [
    "%run arithmetique"
   ]
  },
  {
   "cell_type": "code",
   "execution_count": null,
   "metadata": {
    "dicho": {
     "celltype": "normal",
     "readonly": false
    }
   },
   "outputs": [],
   "source": [
    "euclide"
   ]
  },
  {
   "cell_type": "code",
   "execution_count": null,
   "metadata": {
    "dicho": {
     "celltype": "normal",
     "readonly": false
    }
   },
   "outputs": [],
   "source": [
    "euclide(123456789, 12345)"
   ]
  },
  {
   "cell_type": "code",
   "execution_count": null,
   "metadata": {
    "dicho": {
     "celltype": "normal",
     "readonly": false
    }
   },
   "outputs": [],
   "source": [
    "%timeit euclide(123456789, 12345)"
   ]
  },
  {
   "cell_type": "markdown",
   "metadata": {
    "dicho": {
     "celltype": "normal",
     "readonly": false
    }
   },
   "source": [
    "### %pastebin\n",
    "\n",
    "Envoie un texte vers le serveur *Github Gist*.\n",
    "Tout le monde peut alors lire le texte à partir de l'url retournée par la commande.\n",
    "\n",
    "On peut envoyer le contenu d'un fichier de texte :"
   ]
  },
  {
   "cell_type": "code",
   "execution_count": null,
   "metadata": {
    "dicho": {
     "celltype": "normal",
     "readonly": false
    }
   },
   "outputs": [],
   "source": [
    "%pastebin arithmetique.py"
   ]
  },
  {
   "cell_type": "markdown",
   "metadata": {
    "dicho": {
     "celltype": "normal",
     "readonly": false
    }
   },
   "source": [
    "On peut aussi envoyer le contenu d'une cellule, par exemple `In[9]` :"
   ]
  },
  {
   "cell_type": "code",
   "execution_count": null,
   "metadata": {
    "dicho": {
     "celltype": "normal",
     "readonly": false
    }
   },
   "outputs": [],
   "source": [
    "%pastebin 9"
   ]
  },
  {
   "cell_type": "markdown",
   "metadata": {
    "dicho": {
     "celltype": "normal",
     "readonly": false
    }
   },
   "source": [
    "### %who et %whos\n",
    "\n",
    "Affiche les objets qui sont actuellement définis dans l'interpréteur *Python* :"
   ]
  },
  {
   "cell_type": "code",
   "execution_count": null,
   "metadata": {
    "dicho": {
     "celltype": "normal",
     "readonly": false
    }
   },
   "outputs": [],
   "source": [
    "%who"
   ]
  },
  {
   "cell_type": "markdown",
   "metadata": {},
   "source": [
    "PARTIE IV\n",
    "========\n",
    "### Même partie iv que dans le TP2 - \n",
    "##### A faire uniquement si non fait dans le TP2!"
   ]
  },
  {
   "cell_type": "markdown",
   "metadata": {},
   "source": [
    "# Input, print"
   ]
  },
  {
   "cell_type": "markdown",
   "metadata": {
    "deletable": false,
    "dicho": {
     "celltype": "normal",
     "readonly": false
    }
   },
   "source": [
    "> **Exercice** 5  \n",
    "1. Ecrire vos premières instructions avec `input()` et `print()`:\n",
    "   -  l'une avec la commande *input(\"Quel est votre prénom ? \")* que vous placerez dans une variable **a**\n",
    "   -  l'autre qui  renverra à l'écran en utilisant `print`:  \"Bonjour\" et la variable **a**  \n",
    "par exemple  si **a**=\"Eric le résultat devrait être : \n",
    "```python\n",
    "\"Bonjour Eric\"\n",
    "```\n",
    "   -  Afficher alors les deux phrases suivantes: \n",
    "      - ```python\n",
    "   \"Je viens de dire Bonjour\"\n",
    "   ```\n",
    "      - ```python\n",
    "   \"Bonjour, je fais des choses étranges aujourd'hui.\" \n",
    "   ```\n",
    "   cette fois-ci en plaçant \"Bonjour\" dans une variable **b**\n",
    "2. Comment faire dans la première phrase pour enlever la lettre majuscule.\n"
   ]
  },
  {
   "cell_type": "markdown",
   "metadata": {},
   "source": [
    "# Opérations et méthodes sur les listes \n",
    "\n",
    "## Quelques méthodes sur les listes :\n",
    "\n",
    "\n",
    "```python\n",
    "L.count(x)    #compte le nombre d’éléments égaux à x dans L\n",
    "L.reverse()   #inverse les éléments de la liste\n",
    "s.join (L)    #joint les éléments de L séparées par la chaine s\n",
    "L.append(x)   #ajoute x à la liste L\n",
    "L.sort()      #trie la liste L\n",
    "```\n",
    "Voir d’autres encore : extend, insert, remove, pop... "
   ]
  },
  {
   "cell_type": "markdown",
   "metadata": {},
   "source": [
    "> **Remarque**.  \n",
    "Pour obtenir celle-ci dans `IPython`, une fois une liste entrée et suivie d’un point utiliser la touche `Tab` de complétion automatique. Vous verrez alors toutes les possibilités de fonctions et de méthodes disponibles avec les listes.  \n",
    "Vous pouvez aussi utiliser l’instruction:\n",
    "```python \n",
    "print(dir(list))\n",
    "``` \n",
    "comme vu en cours.  \n",
    "Et avoir des renseignements sur leur utilisation en tapant:\n",
    "```python\n",
    "help(list)\n",
    "```"
   ]
  },
  {
   "cell_type": "markdown",
   "metadata": {},
   "source": [
    "## Les primitives\n",
    "**Il existe aussi des primitives (fonctions) telles que**: `len` ,`min`, `max`, `del` \n",
    "\n",
    "Exemple :\n",
    "```python\n",
    "len(L)        # donne la taille (le nombre d’éléments dans L).\n",
    "del(L[i:j])   #supprime les éléments de i à j exclus.\n",
    "```"
   ]
  },
  {
   "cell_type": "markdown",
   "metadata": {},
   "source": [
    "Je vous propose 3 enchainements d’instructions pour mieux appréhender ce que l’on peut faire avec les listes.   \n",
    "Evaluez les et commentez-les. (Un commentaire commence par `#`)"
   ]
  },
  {
   "cell_type": "code",
   "execution_count": null,
   "metadata": {},
   "outputs": [],
   "source": [
    "#Liste de caractères\n",
    "id = ['Elève', 'prof', 'MM314']\n",
    "'prof' in id"
   ]
  },
  {
   "cell_type": "code",
   "execution_count": null,
   "metadata": {},
   "outputs": [],
   "source": [
    "len(id)"
   ]
  },
  {
   "cell_type": "code",
   "execution_count": null,
   "metadata": {},
   "outputs": [],
   "source": [
    "min(id)"
   ]
  },
  {
   "cell_type": "code",
   "execution_count": null,
   "metadata": {},
   "outputs": [],
   "source": [
    "max(id)"
   ]
  },
  {
   "cell_type": "code",
   "execution_count": null,
   "metadata": {},
   "outputs": [],
   "source": [
    "#Liste d’entiers\n",
    "nums = [5, 102, 13, 2, 99, 154, 7]"
   ]
  },
  {
   "cell_type": "code",
   "execution_count": null,
   "metadata": {},
   "outputs": [],
   "source": [
    "min(nums)"
   ]
  },
  {
   "cell_type": "code",
   "execution_count": null,
   "metadata": {},
   "outputs": [],
   "source": [
    "max(nums)"
   ]
  },
  {
   "cell_type": "code",
   "execution_count": null,
   "metadata": {},
   "outputs": [],
   "source": [
    "sorted(nums)"
   ]
  },
  {
   "cell_type": "code",
   "execution_count": null,
   "metadata": {},
   "outputs": [],
   "source": [
    "nums"
   ]
  },
  {
   "cell_type": "code",
   "execution_count": null,
   "metadata": {},
   "outputs": [],
   "source": [
    "nums.sort()"
   ]
  },
  {
   "cell_type": "code",
   "execution_count": null,
   "metadata": {},
   "outputs": [],
   "source": [
    "nums"
   ]
  },
  {
   "cell_type": "markdown",
   "metadata": {},
   "source": [
    "> Quelle différence faites-vous entre **sorted(nums)** et **nums.sort()**?"
   ]
  },
  {
   "cell_type": "code",
   "execution_count": null,
   "metadata": {},
   "outputs": [],
   "source": [
    "#Une liste peut contenir une liste\n",
    "mylist = ['a', 'b', ['c', 'd', 'e']]"
   ]
  },
  {
   "cell_type": "code",
   "execution_count": null,
   "metadata": {},
   "outputs": [],
   "source": [
    "len(mylist)"
   ]
  },
  {
   "cell_type": "code",
   "execution_count": null,
   "metadata": {},
   "outputs": [],
   "source": [
    "mylist[1]"
   ]
  },
  {
   "cell_type": "code",
   "execution_count": null,
   "metadata": {},
   "outputs": [],
   "source": [
    "len(mylist[1])"
   ]
  },
  {
   "cell_type": "code",
   "execution_count": null,
   "metadata": {},
   "outputs": [],
   "source": [
    "mylist[2]"
   ]
  },
  {
   "cell_type": "code",
   "execution_count": null,
   "metadata": {},
   "outputs": [],
   "source": [
    "len(mylist[2])"
   ]
  },
  {
   "cell_type": "markdown",
   "metadata": {},
   "source": [
    "> **Attention**  \n",
    "Les seuls guillemets simples acceptés par python sont : `' '`\n",
    "mais les guillemets en virgule, accents graves ou aigüs (seul) ne fonctionnne pas..."
   ]
  },
  {
   "cell_type": "code",
   "execution_count": null,
   "metadata": {},
   "outputs": [],
   "source": [
    "a='bonjour'\n",
    "a"
   ]
  },
  {
   "cell_type": "code",
   "execution_count": null,
   "metadata": {},
   "outputs": [],
   "source": [
    "b=`bonjour`\n",
    "b"
   ]
  },
  {
   "cell_type": "markdown",
   "metadata": {},
   "source": [
    "> **Exercice** 6    \n",
    "Ci-dessous, la séquence d’instructions suivantes :\n",
    "```python\n",
    "x = [1,2,3] \n",
    "y=x\n",
    "print(y)\n",
    "y[1] = \"hello\" \n",
    "print(y)\n",
    "print(x)\n",
    "```\n",
    "1. Qu’obtient-on pour les listes **x** et **y**?\n",
    "2. Cela vous semble-t-il cohérent?\n",
    "3. Corrigez donc la séquence précédente pour que le changement d’un élément de la liste **y** ne change pas la liste **x**.  \n",
    "*indice : penser à faire une copie de liste*."
   ]
  },
  {
   "cell_type": "markdown",
   "metadata": {},
   "source": [
    "> **Exercice** 7   \n",
    "1. Définir la liste: \n",
    "```python\n",
    "liste=[17,38,10,83,25,72]\n",
    "```\n",
    "2. Triez et affichez cette liste.\n",
    "3. Ajoutez l’élément 12 à la liste et affichez la liste.\n",
    "4. Renversez et affichez la liste.\n",
    "5. Affichez l’indice de l’élément 17.\n",
    "6. Enlevez l’élément 38 et affichez la liste.\n",
    "7. Affichez la sous-liste du 2 au 5ème éléments (inclus).   *Attention les listes commencent à 0!*\n",
    "8. Affichez la sous-liste du début au 2ème élément (inclus).\n",
    "9. Affichez le dernier élément en utilisant un indiçage négatif.\n",
    "10. Nombre d’éléments de la liste en utilisant une primitive du langage.\n",
    "11. Quels sont le plus grand et le plus petit nombre de la liste?\n",
    "12. Copier liste dans liste2. Remplacer le 2ème élément par 0 dans liste. Y a-t-il eu des changements dans liste2? \n",
    "Comment remédier au problème ?"
   ]
  },
  {
   "cell_type": "code",
   "execution_count": null,
   "metadata": {},
   "outputs": [],
   "source": []
  },
  {
   "cell_type": "markdown",
   "metadata": {},
   "source": [
    ">**Attention** : Bien remarquer que certaines méthodes de listes ne retournent rien (mais transforment néanmoins la liste originale, vérifiez-le)."
   ]
  },
  {
   "cell_type": "markdown",
   "metadata": {},
   "source": [
    ">**Exercice**  8 print,list,for    \n",
    "Soit la liste des prénoms suivants :\n",
    "```python\n",
    "['Jean−Michel', 'Marc', 'Vanessa','Mounir' ,'Maximilien', 'Alexandre−Benoit', 'Louise', 'Amarilla'] \n",
    "```\n",
    "Ecrivez une instruction qui affiche chacun de ces noms avec le nombre de caractères correspondant."
   ]
  },
  {
   "cell_type": "code",
   "execution_count": null,
   "metadata": {},
   "outputs": [],
   "source": []
  },
  {
   "cell_type": "markdown",
   "metadata": {},
   "source": [
    "### Pour les plus avancés\n",
    "> **Exercice** 9  Calcul de PGCD  \n",
    "Soit la séquence d’instructions suivantes :\n",
    "```python\n",
    "A=[246,124]\n",
    "A.sort()\n",
    "A= [A[1]%A[0], A[0]]\n",
    "```\n",
    "1. Que donne A?\n",
    "2. En utilisant la question précédente et en appliquant l’algorithme d’Euclide, trouvez le PGCD de 21608 et 51319.\n",
    "3. Créer une fonction qui calcul le pgcd de 2 nombres entrés en paramètre.\n",
    "4. Une fonction qui calcule les coefficients de Bezout.( voir https://fr.wikipedia.org/wiki/Algorithme_d%27Euclide_%C3%A9tendu )\n"
   ]
  },
  {
   "cell_type": "code",
   "execution_count": null,
   "metadata": {},
   "outputs": [],
   "source": []
  },
  {
   "cell_type": "code",
   "execution_count": null,
   "metadata": {},
   "outputs": [],
   "source": []
  }
 ],
 "metadata": {
  "kernelspec": {
   "display_name": "Python 3",
   "language": "python",
   "name": "python3"
  },
  "language_info": {
   "codemirror_mode": {
    "name": "ipython",
    "version": 3
   },
   "file_extension": ".py",
   "mimetype": "text/x-python",
   "name": "python",
   "nbconvert_exporter": "python",
   "pygments_lexer": "ipython3",
   "version": "3.7.3"
  }
 },
 "nbformat": 4,
 "nbformat_minor": 1
}
